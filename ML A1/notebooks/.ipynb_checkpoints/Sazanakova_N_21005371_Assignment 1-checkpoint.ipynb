{
 "cells": [
  {
   "cell_type": "markdown",
   "metadata": {},
   "source": [
    "# Assignment 1 (Student ID: 21005371)"
   ]
  },
  {
   "cell_type": "code",
   "execution_count": 2,
   "metadata": {},
   "outputs": [],
   "source": [
    "import pandas as pd\n",
    "import numpy as np\n",
    "import matplotlib\n",
    "import matplotlib.pyplot as plt"
   ]
  },
  {
   "cell_type": "code",
   "execution_count": 3,
   "metadata": {},
   "outputs": [],
   "source": [
    "# Pandas options\n",
    "pd.set_option('max_columns', 20)\n",
    "pd.set_option('max_rows',10)"
   ]
  },
  {
   "cell_type": "code",
   "execution_count": 4,
   "metadata": {},
   "outputs": [],
   "source": [
    "# This line enables the plots to be embedded into the notebook\n",
    "%matplotlib inline"
   ]
  },
  {
   "cell_type": "markdown",
   "metadata": {},
   "source": [
    "## Question 1: NZ Health survey data"
   ]
  },
  {
   "cell_type": "markdown",
   "metadata": {},
   "source": [
    "### Importing data"
   ]
  },
  {
   "cell_type": "code",
   "execution_count": 5,
   "metadata": {
    "scrolled": false
   },
   "outputs": [
    {
     "data": {
      "text/html": [
       "<div>\n",
       "<style scoped>\n",
       "    .dataframe tbody tr th:only-of-type {\n",
       "        vertical-align: middle;\n",
       "    }\n",
       "\n",
       "    .dataframe tbody tr th {\n",
       "        vertical-align: top;\n",
       "    }\n",
       "\n",
       "    .dataframe thead th {\n",
       "        text-align: right;\n",
       "    }\n",
       "</style>\n",
       "<table border=\"1\" class=\"dataframe\">\n",
       "  <thead>\n",
       "    <tr style=\"text-align: right;\">\n",
       "      <th></th>\n",
       "      <th>Unnamed: 0</th>\n",
       "      <th>population</th>\n",
       "      <th>short.description</th>\n",
       "      <th>group</th>\n",
       "      <th>percent.16</th>\n",
       "      <th>percent.15</th>\n",
       "      <th>percent.14</th>\n",
       "      <th>percent.13</th>\n",
       "      <th>percent.12</th>\n",
       "      <th>percent.11</th>\n",
       "      <th>percent.06</th>\n",
       "      <th>percent.07</th>\n",
       "      <th>p.value.16.15</th>\n",
       "      <th>p.value.16.14</th>\n",
       "      <th>p.value.16.13</th>\n",
       "      <th>p.value.16.12</th>\n",
       "      <th>p.value.16.11</th>\n",
       "      <th>p.value.16.06</th>\n",
       "      <th>p.value.16.07</th>\n",
       "    </tr>\n",
       "  </thead>\n",
       "  <tbody>\n",
       "    <tr>\n",
       "      <th>0</th>\n",
       "      <td>1</td>\n",
       "      <td>adults</td>\n",
       "      <td>Physically active</td>\n",
       "      <td>Total</td>\n",
       "      <td>50.2</td>\n",
       "      <td>47.7</td>\n",
       "      <td>50.7</td>\n",
       "      <td>52.1</td>\n",
       "      <td>51.7</td>\n",
       "      <td>54.4</td>\n",
       "      <td>52.0</td>\n",
       "      <td>NaN</td>\n",
       "      <td>0.0054</td>\n",
       "      <td>0.7635</td>\n",
       "      <td>0.3533</td>\n",
       "      <td>0.4386</td>\n",
       "      <td>0.0068</td>\n",
       "      <td>0.1178</td>\n",
       "      <td>NaN</td>\n",
       "    </tr>\n",
       "    <tr>\n",
       "      <th>1</th>\n",
       "      <td>2</td>\n",
       "      <td>adults</td>\n",
       "      <td>Physically active</td>\n",
       "      <td>Men</td>\n",
       "      <td>53.0</td>\n",
       "      <td>51.0</td>\n",
       "      <td>55.2</td>\n",
       "      <td>55.2</td>\n",
       "      <td>55.8</td>\n",
       "      <td>57.3</td>\n",
       "      <td>55.5</td>\n",
       "      <td>NaN</td>\n",
       "      <td>0.0649</td>\n",
       "      <td>0.2558</td>\n",
       "      <td>0.3232</td>\n",
       "      <td>0.1348</td>\n",
       "      <td>0.0247</td>\n",
       "      <td>0.0971</td>\n",
       "      <td>NaN</td>\n",
       "    </tr>\n",
       "    <tr>\n",
       "      <th>2</th>\n",
       "      <td>3</td>\n",
       "      <td>adults</td>\n",
       "      <td>Physically active</td>\n",
       "      <td>Women</td>\n",
       "      <td>47.6</td>\n",
       "      <td>44.5</td>\n",
       "      <td>46.5</td>\n",
       "      <td>49.1</td>\n",
       "      <td>47.9</td>\n",
       "      <td>51.7</td>\n",
       "      <td>48.8</td>\n",
       "      <td>NaN</td>\n",
       "      <td>0.0165</td>\n",
       "      <td>0.5380</td>\n",
       "      <td>0.5282</td>\n",
       "      <td>0.9708</td>\n",
       "      <td>0.0131</td>\n",
       "      <td>0.3323</td>\n",
       "      <td>NaN</td>\n",
       "    </tr>\n",
       "    <tr>\n",
       "      <th>3</th>\n",
       "      <td>4</td>\n",
       "      <td>adults</td>\n",
       "      <td>Physically active</td>\n",
       "      <td>15-17</td>\n",
       "      <td>47.1</td>\n",
       "      <td>41.7</td>\n",
       "      <td>49.6</td>\n",
       "      <td>46.7</td>\n",
       "      <td>52.7</td>\n",
       "      <td>58.1</td>\n",
       "      <td>58.6</td>\n",
       "      <td>NaN</td>\n",
       "      <td>0.1554</td>\n",
       "      <td>0.5678</td>\n",
       "      <td>0.9125</td>\n",
       "      <td>0.2326</td>\n",
       "      <td>0.0074</td>\n",
       "      <td>0.0048</td>\n",
       "      <td>NaN</td>\n",
       "    </tr>\n",
       "    <tr>\n",
       "      <th>4</th>\n",
       "      <td>5</td>\n",
       "      <td>adults</td>\n",
       "      <td>Physically active</td>\n",
       "      <td>18-24</td>\n",
       "      <td>53.5</td>\n",
       "      <td>49.7</td>\n",
       "      <td>52.6</td>\n",
       "      <td>53.7</td>\n",
       "      <td>54.9</td>\n",
       "      <td>57.4</td>\n",
       "      <td>55.3</td>\n",
       "      <td>NaN</td>\n",
       "      <td>0.1104</td>\n",
       "      <td>0.3706</td>\n",
       "      <td>0.4546</td>\n",
       "      <td>0.7370</td>\n",
       "      <td>0.3865</td>\n",
       "      <td>0.7472</td>\n",
       "      <td>NaN</td>\n",
       "    </tr>\n",
       "  </tbody>\n",
       "</table>\n",
       "</div>"
      ],
      "text/plain": [
       "   Unnamed: 0 population  short.description  group  percent.16  percent.15  \\\n",
       "0           1     adults  Physically active  Total        50.2        47.7   \n",
       "1           2     adults  Physically active    Men        53.0        51.0   \n",
       "2           3     adults  Physically active  Women        47.6        44.5   \n",
       "3           4     adults  Physically active  15-17        47.1        41.7   \n",
       "4           5     adults  Physically active  18-24        53.5        49.7   \n",
       "\n",
       "   percent.14  percent.13  percent.12  percent.11  percent.06  percent.07  \\\n",
       "0        50.7        52.1        51.7        54.4        52.0         NaN   \n",
       "1        55.2        55.2        55.8        57.3        55.5         NaN   \n",
       "2        46.5        49.1        47.9        51.7        48.8         NaN   \n",
       "3        49.6        46.7        52.7        58.1        58.6         NaN   \n",
       "4        52.6        53.7        54.9        57.4        55.3         NaN   \n",
       "\n",
       "   p.value.16.15  p.value.16.14  p.value.16.13  p.value.16.12  p.value.16.11  \\\n",
       "0         0.0054         0.7635         0.3533         0.4386         0.0068   \n",
       "1         0.0649         0.2558         0.3232         0.1348         0.0247   \n",
       "2         0.0165         0.5380         0.5282         0.9708         0.0131   \n",
       "3         0.1554         0.5678         0.9125         0.2326         0.0074   \n",
       "4         0.1104         0.3706         0.4546         0.7370         0.3865   \n",
       "\n",
       "   p.value.16.06  p.value.16.07  \n",
       "0         0.1178            NaN  \n",
       "1         0.0971            NaN  \n",
       "2         0.3323            NaN  \n",
       "3         0.0048            NaN  \n",
       "4         0.7472            NaN  "
      ]
     },
     "execution_count": 5,
     "metadata": {},
     "output_type": "execute_result"
    }
   ],
   "source": [
    "# Import data\n",
    "original_df = pd.read_csv(\"../datasets/health_survey.csv\", encoding = \"latin\")\n",
    "original_df.head()"
   ]
  },
  {
   "cell_type": "code",
   "execution_count": 6,
   "metadata": {},
   "outputs": [
    {
     "data": {
      "text/html": [
       "<div>\n",
       "<style scoped>\n",
       "    .dataframe tbody tr th:only-of-type {\n",
       "        vertical-align: middle;\n",
       "    }\n",
       "\n",
       "    .dataframe tbody tr th {\n",
       "        vertical-align: top;\n",
       "    }\n",
       "\n",
       "    .dataframe thead th {\n",
       "        text-align: right;\n",
       "    }\n",
       "</style>\n",
       "<table border=\"1\" class=\"dataframe\">\n",
       "  <thead>\n",
       "    <tr style=\"text-align: right;\">\n",
       "      <th></th>\n",
       "      <th>Unnamed: 0</th>\n",
       "      <th>population</th>\n",
       "      <th>short.description</th>\n",
       "      <th>group</th>\n",
       "      <th>percent.16</th>\n",
       "      <th>percent.15</th>\n",
       "      <th>percent.14</th>\n",
       "      <th>percent.13</th>\n",
       "      <th>percent.12</th>\n",
       "      <th>percent.11</th>\n",
       "      <th>percent.06</th>\n",
       "      <th>percent.07</th>\n",
       "      <th>p.value.16.15</th>\n",
       "      <th>p.value.16.14</th>\n",
       "      <th>p.value.16.13</th>\n",
       "      <th>p.value.16.12</th>\n",
       "      <th>p.value.16.11</th>\n",
       "      <th>p.value.16.06</th>\n",
       "      <th>p.value.16.07</th>\n",
       "    </tr>\n",
       "  </thead>\n",
       "  <tbody>\n",
       "    <tr>\n",
       "      <th>0</th>\n",
       "      <td>1</td>\n",
       "      <td>adults</td>\n",
       "      <td>Physically active</td>\n",
       "      <td>Total</td>\n",
       "      <td>50.2</td>\n",
       "      <td>47.7</td>\n",
       "      <td>50.7</td>\n",
       "      <td>52.1</td>\n",
       "      <td>51.7</td>\n",
       "      <td>54.4</td>\n",
       "      <td>52.0</td>\n",
       "      <td>NaN</td>\n",
       "      <td>0.0054</td>\n",
       "      <td>0.7635</td>\n",
       "      <td>0.3533</td>\n",
       "      <td>0.4386</td>\n",
       "      <td>0.0068</td>\n",
       "      <td>0.1178</td>\n",
       "      <td>NaN</td>\n",
       "    </tr>\n",
       "    <tr>\n",
       "      <th>1</th>\n",
       "      <td>2</td>\n",
       "      <td>adults</td>\n",
       "      <td>Physically active</td>\n",
       "      <td>Men</td>\n",
       "      <td>53.0</td>\n",
       "      <td>51.0</td>\n",
       "      <td>55.2</td>\n",
       "      <td>55.2</td>\n",
       "      <td>55.8</td>\n",
       "      <td>57.3</td>\n",
       "      <td>55.5</td>\n",
       "      <td>NaN</td>\n",
       "      <td>0.0649</td>\n",
       "      <td>0.2558</td>\n",
       "      <td>0.3232</td>\n",
       "      <td>0.1348</td>\n",
       "      <td>0.0247</td>\n",
       "      <td>0.0971</td>\n",
       "      <td>NaN</td>\n",
       "    </tr>\n",
       "    <tr>\n",
       "      <th>2</th>\n",
       "      <td>3</td>\n",
       "      <td>adults</td>\n",
       "      <td>Physically active</td>\n",
       "      <td>Women</td>\n",
       "      <td>47.6</td>\n",
       "      <td>44.5</td>\n",
       "      <td>46.5</td>\n",
       "      <td>49.1</td>\n",
       "      <td>47.9</td>\n",
       "      <td>51.7</td>\n",
       "      <td>48.8</td>\n",
       "      <td>NaN</td>\n",
       "      <td>0.0165</td>\n",
       "      <td>0.5380</td>\n",
       "      <td>0.5282</td>\n",
       "      <td>0.9708</td>\n",
       "      <td>0.0131</td>\n",
       "      <td>0.3323</td>\n",
       "      <td>NaN</td>\n",
       "    </tr>\n",
       "    <tr>\n",
       "      <th>3</th>\n",
       "      <td>4</td>\n",
       "      <td>adults</td>\n",
       "      <td>Physically active</td>\n",
       "      <td>15-17</td>\n",
       "      <td>47.1</td>\n",
       "      <td>41.7</td>\n",
       "      <td>49.6</td>\n",
       "      <td>46.7</td>\n",
       "      <td>52.7</td>\n",
       "      <td>58.1</td>\n",
       "      <td>58.6</td>\n",
       "      <td>NaN</td>\n",
       "      <td>0.1554</td>\n",
       "      <td>0.5678</td>\n",
       "      <td>0.9125</td>\n",
       "      <td>0.2326</td>\n",
       "      <td>0.0074</td>\n",
       "      <td>0.0048</td>\n",
       "      <td>NaN</td>\n",
       "    </tr>\n",
       "    <tr>\n",
       "      <th>4</th>\n",
       "      <td>5</td>\n",
       "      <td>adults</td>\n",
       "      <td>Physically active</td>\n",
       "      <td>18-24</td>\n",
       "      <td>53.5</td>\n",
       "      <td>49.7</td>\n",
       "      <td>52.6</td>\n",
       "      <td>53.7</td>\n",
       "      <td>54.9</td>\n",
       "      <td>57.4</td>\n",
       "      <td>55.3</td>\n",
       "      <td>NaN</td>\n",
       "      <td>0.1104</td>\n",
       "      <td>0.3706</td>\n",
       "      <td>0.4546</td>\n",
       "      <td>0.7370</td>\n",
       "      <td>0.3865</td>\n",
       "      <td>0.7472</td>\n",
       "      <td>NaN</td>\n",
       "    </tr>\n",
       "  </tbody>\n",
       "</table>\n",
       "</div>"
      ],
      "text/plain": [
       "   Unnamed: 0 population  short.description  group  percent.16  percent.15  \\\n",
       "0           1     adults  Physically active  Total        50.2        47.7   \n",
       "1           2     adults  Physically active    Men        53.0        51.0   \n",
       "2           3     adults  Physically active  Women        47.6        44.5   \n",
       "3           4     adults  Physically active  15-17        47.1        41.7   \n",
       "4           5     adults  Physically active  18-24        53.5        49.7   \n",
       "\n",
       "   percent.14  percent.13  percent.12  percent.11  percent.06  percent.07  \\\n",
       "0        50.7        52.1        51.7        54.4        52.0         NaN   \n",
       "1        55.2        55.2        55.8        57.3        55.5         NaN   \n",
       "2        46.5        49.1        47.9        51.7        48.8         NaN   \n",
       "3        49.6        46.7        52.7        58.1        58.6         NaN   \n",
       "4        52.6        53.7        54.9        57.4        55.3         NaN   \n",
       "\n",
       "   p.value.16.15  p.value.16.14  p.value.16.13  p.value.16.12  p.value.16.11  \\\n",
       "0         0.0054         0.7635         0.3533         0.4386         0.0068   \n",
       "1         0.0649         0.2558         0.3232         0.1348         0.0247   \n",
       "2         0.0165         0.5380         0.5282         0.9708         0.0131   \n",
       "3         0.1554         0.5678         0.9125         0.2326         0.0074   \n",
       "4         0.1104         0.3706         0.4546         0.7370         0.3865   \n",
       "\n",
       "   p.value.16.06  p.value.16.07  \n",
       "0         0.1178            NaN  \n",
       "1         0.0971            NaN  \n",
       "2         0.3323            NaN  \n",
       "3         0.0048            NaN  \n",
       "4         0.7472            NaN  "
      ]
     },
     "execution_count": 6,
     "metadata": {},
     "output_type": "execute_result"
    }
   ],
   "source": [
    "hs_df = original_df.copy()\n",
    "hs_df.head()"
   ]
  },
  {
   "cell_type": "code",
   "execution_count": 7,
   "metadata": {
    "scrolled": true
   },
   "outputs": [
    {
     "data": {
      "text/html": [
       "<div>\n",
       "<style scoped>\n",
       "    .dataframe tbody tr th:only-of-type {\n",
       "        vertical-align: middle;\n",
       "    }\n",
       "\n",
       "    .dataframe tbody tr th {\n",
       "        vertical-align: top;\n",
       "    }\n",
       "\n",
       "    .dataframe thead th {\n",
       "        text-align: right;\n",
       "    }\n",
       "</style>\n",
       "<table border=\"1\" class=\"dataframe\">\n",
       "  <thead>\n",
       "    <tr style=\"text-align: right;\">\n",
       "      <th></th>\n",
       "      <th>population</th>\n",
       "      <th>short.description</th>\n",
       "      <th>group</th>\n",
       "      <th>percent.16</th>\n",
       "      <th>percent.15</th>\n",
       "      <th>percent.14</th>\n",
       "      <th>percent.13</th>\n",
       "      <th>percent.12</th>\n",
       "      <th>percent.11</th>\n",
       "      <th>percent.06</th>\n",
       "      <th>percent.07</th>\n",
       "    </tr>\n",
       "  </thead>\n",
       "  <tbody>\n",
       "    <tr>\n",
       "      <th>0</th>\n",
       "      <td>adults</td>\n",
       "      <td>Physically active</td>\n",
       "      <td>Total</td>\n",
       "      <td>50.2</td>\n",
       "      <td>47.7</td>\n",
       "      <td>50.7</td>\n",
       "      <td>52.1</td>\n",
       "      <td>51.7</td>\n",
       "      <td>54.4</td>\n",
       "      <td>52.0</td>\n",
       "      <td>NaN</td>\n",
       "    </tr>\n",
       "    <tr>\n",
       "      <th>1</th>\n",
       "      <td>adults</td>\n",
       "      <td>Physically active</td>\n",
       "      <td>Men</td>\n",
       "      <td>53.0</td>\n",
       "      <td>51.0</td>\n",
       "      <td>55.2</td>\n",
       "      <td>55.2</td>\n",
       "      <td>55.8</td>\n",
       "      <td>57.3</td>\n",
       "      <td>55.5</td>\n",
       "      <td>NaN</td>\n",
       "    </tr>\n",
       "    <tr>\n",
       "      <th>2</th>\n",
       "      <td>adults</td>\n",
       "      <td>Physically active</td>\n",
       "      <td>Women</td>\n",
       "      <td>47.6</td>\n",
       "      <td>44.5</td>\n",
       "      <td>46.5</td>\n",
       "      <td>49.1</td>\n",
       "      <td>47.9</td>\n",
       "      <td>51.7</td>\n",
       "      <td>48.8</td>\n",
       "      <td>NaN</td>\n",
       "    </tr>\n",
       "    <tr>\n",
       "      <th>3</th>\n",
       "      <td>adults</td>\n",
       "      <td>Physically active</td>\n",
       "      <td>15-17</td>\n",
       "      <td>47.1</td>\n",
       "      <td>41.7</td>\n",
       "      <td>49.6</td>\n",
       "      <td>46.7</td>\n",
       "      <td>52.7</td>\n",
       "      <td>58.1</td>\n",
       "      <td>58.6</td>\n",
       "      <td>NaN</td>\n",
       "    </tr>\n",
       "    <tr>\n",
       "      <th>4</th>\n",
       "      <td>adults</td>\n",
       "      <td>Physically active</td>\n",
       "      <td>18-24</td>\n",
       "      <td>53.5</td>\n",
       "      <td>49.7</td>\n",
       "      <td>52.6</td>\n",
       "      <td>53.7</td>\n",
       "      <td>54.9</td>\n",
       "      <td>57.4</td>\n",
       "      <td>55.3</td>\n",
       "      <td>NaN</td>\n",
       "    </tr>\n",
       "  </tbody>\n",
       "</table>\n",
       "</div>"
      ],
      "text/plain": [
       "  population  short.description  group  percent.16  percent.15  percent.14  \\\n",
       "0     adults  Physically active  Total        50.2        47.7        50.7   \n",
       "1     adults  Physically active    Men        53.0        51.0        55.2   \n",
       "2     adults  Physically active  Women        47.6        44.5        46.5   \n",
       "3     adults  Physically active  15-17        47.1        41.7        49.6   \n",
       "4     adults  Physically active  18-24        53.5        49.7        52.6   \n",
       "\n",
       "   percent.13  percent.12  percent.11  percent.06  percent.07  \n",
       "0        52.1        51.7        54.4        52.0         NaN  \n",
       "1        55.2        55.8        57.3        55.5         NaN  \n",
       "2        49.1        47.9        51.7        48.8         NaN  \n",
       "3        46.7        52.7        58.1        58.6         NaN  \n",
       "4        53.7        54.9        57.4        55.3         NaN  "
      ]
     },
     "execution_count": 7,
     "metadata": {},
     "output_type": "execute_result"
    }
   ],
   "source": [
    "# Remove the first unnamed column and the seven ‘p.value’ columns\n",
    "hs_df = hs_df.drop(['Unnamed: 0', 'p.value.16.15', 'p.value.16.14', 'p.value.16.13', 'p.value.16.12', 'p.value.16.11', 'p.value.16.06', 'p.value.16.07'], axis=1)\n",
    "hs_df.head()"
   ]
  },
  {
   "cell_type": "code",
   "execution_count": 8,
   "metadata": {
    "scrolled": true
   },
   "outputs": [
    {
     "data": {
      "text/html": [
       "<div>\n",
       "<style scoped>\n",
       "    .dataframe tbody tr th:only-of-type {\n",
       "        vertical-align: middle;\n",
       "    }\n",
       "\n",
       "    .dataframe tbody tr th {\n",
       "        vertical-align: top;\n",
       "    }\n",
       "\n",
       "    .dataframe thead th {\n",
       "        text-align: right;\n",
       "    }\n",
       "</style>\n",
       "<table border=\"1\" class=\"dataframe\">\n",
       "  <thead>\n",
       "    <tr style=\"text-align: right;\">\n",
       "      <th></th>\n",
       "      <th>population</th>\n",
       "      <th>short.description</th>\n",
       "      <th>group</th>\n",
       "      <th>2016</th>\n",
       "      <th>2015</th>\n",
       "      <th>2014</th>\n",
       "      <th>2013</th>\n",
       "      <th>2012</th>\n",
       "      <th>2011</th>\n",
       "      <th>2006</th>\n",
       "      <th>2007</th>\n",
       "    </tr>\n",
       "  </thead>\n",
       "  <tbody>\n",
       "    <tr>\n",
       "      <th>0</th>\n",
       "      <td>adults</td>\n",
       "      <td>Physically active</td>\n",
       "      <td>Total</td>\n",
       "      <td>50.2</td>\n",
       "      <td>47.7</td>\n",
       "      <td>50.7</td>\n",
       "      <td>52.1</td>\n",
       "      <td>51.7</td>\n",
       "      <td>54.4</td>\n",
       "      <td>52.0</td>\n",
       "      <td>NaN</td>\n",
       "    </tr>\n",
       "    <tr>\n",
       "      <th>1</th>\n",
       "      <td>adults</td>\n",
       "      <td>Physically active</td>\n",
       "      <td>Men</td>\n",
       "      <td>53.0</td>\n",
       "      <td>51.0</td>\n",
       "      <td>55.2</td>\n",
       "      <td>55.2</td>\n",
       "      <td>55.8</td>\n",
       "      <td>57.3</td>\n",
       "      <td>55.5</td>\n",
       "      <td>NaN</td>\n",
       "    </tr>\n",
       "    <tr>\n",
       "      <th>2</th>\n",
       "      <td>adults</td>\n",
       "      <td>Physically active</td>\n",
       "      <td>Women</td>\n",
       "      <td>47.6</td>\n",
       "      <td>44.5</td>\n",
       "      <td>46.5</td>\n",
       "      <td>49.1</td>\n",
       "      <td>47.9</td>\n",
       "      <td>51.7</td>\n",
       "      <td>48.8</td>\n",
       "      <td>NaN</td>\n",
       "    </tr>\n",
       "    <tr>\n",
       "      <th>3</th>\n",
       "      <td>adults</td>\n",
       "      <td>Physically active</td>\n",
       "      <td>15-17</td>\n",
       "      <td>47.1</td>\n",
       "      <td>41.7</td>\n",
       "      <td>49.6</td>\n",
       "      <td>46.7</td>\n",
       "      <td>52.7</td>\n",
       "      <td>58.1</td>\n",
       "      <td>58.6</td>\n",
       "      <td>NaN</td>\n",
       "    </tr>\n",
       "    <tr>\n",
       "      <th>4</th>\n",
       "      <td>adults</td>\n",
       "      <td>Physically active</td>\n",
       "      <td>18-24</td>\n",
       "      <td>53.5</td>\n",
       "      <td>49.7</td>\n",
       "      <td>52.6</td>\n",
       "      <td>53.7</td>\n",
       "      <td>54.9</td>\n",
       "      <td>57.4</td>\n",
       "      <td>55.3</td>\n",
       "      <td>NaN</td>\n",
       "    </tr>\n",
       "  </tbody>\n",
       "</table>\n",
       "</div>"
      ],
      "text/plain": [
       "  population  short.description  group  2016  2015  2014  2013  2012  2011  \\\n",
       "0     adults  Physically active  Total  50.2  47.7  50.7  52.1  51.7  54.4   \n",
       "1     adults  Physically active    Men  53.0  51.0  55.2  55.2  55.8  57.3   \n",
       "2     adults  Physically active  Women  47.6  44.5  46.5  49.1  47.9  51.7   \n",
       "3     adults  Physically active  15-17  47.1  41.7  49.6  46.7  52.7  58.1   \n",
       "4     adults  Physically active  18-24  53.5  49.7  52.6  53.7  54.9  57.4   \n",
       "\n",
       "   2006  2007  \n",
       "0  52.0   NaN  \n",
       "1  55.5   NaN  \n",
       "2  48.8   NaN  \n",
       "3  58.6   NaN  \n",
       "4  55.3   NaN  "
      ]
     },
     "execution_count": 8,
     "metadata": {},
     "output_type": "execute_result"
    }
   ],
   "source": [
    "# Change all ‘percent’ column name to their associated ‘year’ values (e.g. the name for ‘percent.16’ changes to ‘2016’)\n",
    "# health_survey_df = health_survey_df.rename(index=str, columns=lambda x: '20'+ x[8:] if x.startswith('percent.') else x)\n",
    "hs_df.columns =[column.replace(\"percent.\", \"20\") for column in hs_df.columns]\n",
    "hs_df.head()"
   ]
  },
  {
   "cell_type": "code",
   "execution_count": 9,
   "metadata": {
    "scrolled": true
   },
   "outputs": [
    {
     "data": {
      "text/html": [
       "<div>\n",
       "<style scoped>\n",
       "    .dataframe tbody tr th:only-of-type {\n",
       "        vertical-align: middle;\n",
       "    }\n",
       "\n",
       "    .dataframe tbody tr th {\n",
       "        vertical-align: top;\n",
       "    }\n",
       "\n",
       "    .dataframe thead th {\n",
       "        text-align: right;\n",
       "    }\n",
       "</style>\n",
       "<table border=\"1\" class=\"dataframe\">\n",
       "  <thead>\n",
       "    <tr style=\"text-align: right;\">\n",
       "      <th></th>\n",
       "      <th>population</th>\n",
       "      <th>description</th>\n",
       "      <th>group</th>\n",
       "      <th>2016</th>\n",
       "      <th>2015</th>\n",
       "      <th>2014</th>\n",
       "      <th>2013</th>\n",
       "      <th>2012</th>\n",
       "      <th>2011</th>\n",
       "      <th>2006</th>\n",
       "      <th>2007</th>\n",
       "    </tr>\n",
       "  </thead>\n",
       "  <tbody>\n",
       "    <tr>\n",
       "      <th>0</th>\n",
       "      <td>adults</td>\n",
       "      <td>Physically active</td>\n",
       "      <td>Total</td>\n",
       "      <td>50.2</td>\n",
       "      <td>47.7</td>\n",
       "      <td>50.7</td>\n",
       "      <td>52.1</td>\n",
       "      <td>51.7</td>\n",
       "      <td>54.4</td>\n",
       "      <td>52.0</td>\n",
       "      <td>NaN</td>\n",
       "    </tr>\n",
       "    <tr>\n",
       "      <th>1</th>\n",
       "      <td>adults</td>\n",
       "      <td>Physically active</td>\n",
       "      <td>Men</td>\n",
       "      <td>53.0</td>\n",
       "      <td>51.0</td>\n",
       "      <td>55.2</td>\n",
       "      <td>55.2</td>\n",
       "      <td>55.8</td>\n",
       "      <td>57.3</td>\n",
       "      <td>55.5</td>\n",
       "      <td>NaN</td>\n",
       "    </tr>\n",
       "    <tr>\n",
       "      <th>2</th>\n",
       "      <td>adults</td>\n",
       "      <td>Physically active</td>\n",
       "      <td>Women</td>\n",
       "      <td>47.6</td>\n",
       "      <td>44.5</td>\n",
       "      <td>46.5</td>\n",
       "      <td>49.1</td>\n",
       "      <td>47.9</td>\n",
       "      <td>51.7</td>\n",
       "      <td>48.8</td>\n",
       "      <td>NaN</td>\n",
       "    </tr>\n",
       "    <tr>\n",
       "      <th>3</th>\n",
       "      <td>adults</td>\n",
       "      <td>Physically active</td>\n",
       "      <td>15-17</td>\n",
       "      <td>47.1</td>\n",
       "      <td>41.7</td>\n",
       "      <td>49.6</td>\n",
       "      <td>46.7</td>\n",
       "      <td>52.7</td>\n",
       "      <td>58.1</td>\n",
       "      <td>58.6</td>\n",
       "      <td>NaN</td>\n",
       "    </tr>\n",
       "    <tr>\n",
       "      <th>4</th>\n",
       "      <td>adults</td>\n",
       "      <td>Physically active</td>\n",
       "      <td>18-24</td>\n",
       "      <td>53.5</td>\n",
       "      <td>49.7</td>\n",
       "      <td>52.6</td>\n",
       "      <td>53.7</td>\n",
       "      <td>54.9</td>\n",
       "      <td>57.4</td>\n",
       "      <td>55.3</td>\n",
       "      <td>NaN</td>\n",
       "    </tr>\n",
       "  </tbody>\n",
       "</table>\n",
       "</div>"
      ],
      "text/plain": [
       "  population        description  group  2016  2015  2014  2013  2012  2011  \\\n",
       "0     adults  Physically active  Total  50.2  47.7  50.7  52.1  51.7  54.4   \n",
       "1     adults  Physically active    Men  53.0  51.0  55.2  55.2  55.8  57.3   \n",
       "2     adults  Physically active  Women  47.6  44.5  46.5  49.1  47.9  51.7   \n",
       "3     adults  Physically active  15-17  47.1  41.7  49.6  46.7  52.7  58.1   \n",
       "4     adults  Physically active  18-24  53.5  49.7  52.6  53.7  54.9  57.4   \n",
       "\n",
       "   2006  2007  \n",
       "0  52.0   NaN  \n",
       "1  55.5   NaN  \n",
       "2  48.8   NaN  \n",
       "3  58.6   NaN  \n",
       "4  55.3   NaN  "
      ]
     },
     "execution_count": 9,
     "metadata": {},
     "output_type": "execute_result"
    }
   ],
   "source": [
    "# Change column name of ‘short.description’ to ‘description’\n",
    "hs_df.rename(columns={'short.description': 'description'}, inplace=True)\n",
    "hs_df.head()"
   ]
  },
  {
   "cell_type": "markdown",
   "metadata": {},
   "source": [
    "### Filtering"
   ]
  },
  {
   "cell_type": "code",
   "execution_count": 10,
   "metadata": {
    "scrolled": true
   },
   "outputs": [
    {
     "data": {
      "text/plain": [
       "array(['Physically active', 'After-hours medical centre visit',\n",
       "       'Past-year drinkers', 'Amphetamine use (total population)',\n",
       "       'Amphetamine use (16-64 years)', 'Anxiety disorder', 'Arthritis',\n",
       "       'Asthma (medicated)', 'Bipolar disorder', 'Mean BMI (kg/m²)',\n",
       "       'Cannabis use', 'Definite confidence and trust in GP',\n",
       "       'Current smokers', 'Daily smokers',\n",
       "       'Only visit dental health care worker for problems',\n",
       "       'Dental health care worker visit', 'Depression', 'Diabetes',\n",
       "       'Type 2 diabetes (proxy)', 'Mean diastolic blood pressure (mmHg)',\n",
       "       'Heavy episodic drinking at least monthly (total population)',\n",
       "       'Heavy episodic drinking at least monthly (past-year drinkers)',\n",
       "       'Heavy episodic drinking at least weekly (total population)',\n",
       "       'Heavy episodic drinking at least weekly (past-year drinkers)',\n",
       "       'All teeth removed due to decay', 'ED visit', 'Ex-smokers',\n",
       "       'GP good at explaining health conditions and treatments',\n",
       "       'Fruit intake', 'Gout', 'GP visit',\n",
       "       'Hazardous drinkers (total population)',\n",
       "       'Hazardous drinkers (past-year drinkers)',\n",
       "       'Self-rated health - excellent', 'Self-rated health - fair',\n",
       "       'Fair or poor self-rated health', 'Self-rated health - good',\n",
       "       'Excellent, very good or good self-rated health',\n",
       "       'Self-rated health - poor', 'Self-rated health - very good',\n",
       "       'Heart failure', 'Heavy smokers', 'Mean height (cm)',\n",
       "       'High blood pressure (medicated)', 'High cholesterol (medicated)',\n",
       "       'Highly physically active', 'Ischaemic heart disease',\n",
       "       'GP good at involving patient in decisions',\n",
       "       'Psychological distress', 'Mean number of after-hours visits',\n",
       "       'Mean number of cigarettes', 'Mean number of GP visits',\n",
       "       'Mean number of practice nurse visits',\n",
       "       'Mood and/or anxiety disorder',\n",
       "       'Mood disorder (depression and/or bipolar)',\n",
       "       'Unable to get appointment within 24 hours', 'Healthy weight',\n",
       "       'Unfilled prescription due to cost', 'Practice nurse visit',\n",
       "       'Obese', 'Obese class 1', 'Obese class 2', 'Obese class 3',\n",
       "       'Osteoarthritis', 'Overweight or obese',\n",
       "       'Overweight (but not obese)', 'Chronic pain',\n",
       "       'Private health insurance', 'Raised blood pressure (measured)',\n",
       "       'Rheumatoid arthritis', 'Mostly smoke roll-your-own cigarettes',\n",
       "       'Little or no physical activity', 'Stroke',\n",
       "       'Mean systolic blood pressure (mmHg)',\n",
       "       'Mostly smoke both manufactured and roll-your own cigarettes',\n",
       "       'Mostly smoke manufactured cigarettes',\n",
       "       'Teeth removed due to decay in lifetime',\n",
       "       'Teeth removed due to decay in past 12 months', 'Underweight',\n",
       "       'Unmet need for after-hours due to cost',\n",
       "       'Unmet need for after-hours due to lack of transport',\n",
       "       'Unmet need for GP due to cost',\n",
       "       'Unmet need for GP due to lack of transport',\n",
       "       'Unmet need for primary health care', 'Vegetable and fruit intake',\n",
       "       'Vegetable intake', 'Mean waist (cm)', 'Mean weight (kg)',\n",
       "       'Waist to height ratio = 0.5', 'ADHD', 'Autism spectrum disorder',\n",
       "       'Breakfast eaten at home <5 days a week',\n",
       "       'Breakfast eaten at home every day',\n",
       "       'Emotional and/or behavioural problems',\n",
       "       'Exclusively breastfed until 4+ months old',\n",
       "       'Exclusively breastfed until 6+ months old',\n",
       "       'Fast food 3+ times in past week',\n",
       "       'Fast food 1+ times in past week', 'Fizzy drink 3+ times per week',\n",
       "       'Fizzy drink 1+ times per week', 'Eczema (medicated)',\n",
       "       'Parent-rated health - excellent', 'Parent-rated health - fair',\n",
       "       'Parent-rated health - good', 'Parent-rated health - poor',\n",
       "       'Parent-rated health - very good',\n",
       "       'Fair or poor parent-rated health',\n",
       "       'Excellent, very good or good parent-rated health',\n",
       "       'Last after-hours visit free', 'Last GP visit (any location) free',\n",
       "       'Last practice nurse visit free',\n",
       "       'Unmet need for GP due to lack of childcare', 'Obese class 2 or 3',\n",
       "       'Screen watching', 'Physical punishment',\n",
       "       'Solid food before 4 months', 'Solid food before 6 months',\n",
       "       'Active transport', 'Television watching', 'Thin'], dtype=object)"
      ]
     },
     "execution_count": 10,
     "metadata": {},
     "output_type": "execute_result"
    }
   ],
   "source": [
    "# Display the unique labels in the ‘description’ column\n",
    "unique_desc = hs_df.description.unique()\n",
    "unique_desc"
   ]
  },
  {
   "cell_type": "code",
   "execution_count": 11,
   "metadata": {
    "scrolled": true
   },
   "outputs": [
    {
     "data": {
      "text/html": [
       "<div>\n",
       "<style scoped>\n",
       "    .dataframe tbody tr th:only-of-type {\n",
       "        vertical-align: middle;\n",
       "    }\n",
       "\n",
       "    .dataframe tbody tr th {\n",
       "        vertical-align: top;\n",
       "    }\n",
       "\n",
       "    .dataframe thead th {\n",
       "        text-align: right;\n",
       "    }\n",
       "</style>\n",
       "<table border=\"1\" class=\"dataframe\">\n",
       "  <thead>\n",
       "    <tr style=\"text-align: right;\">\n",
       "      <th></th>\n",
       "      <th>population</th>\n",
       "      <th>description</th>\n",
       "      <th>group</th>\n",
       "      <th>2016</th>\n",
       "      <th>2015</th>\n",
       "      <th>2014</th>\n",
       "      <th>2013</th>\n",
       "      <th>2012</th>\n",
       "      <th>2011</th>\n",
       "      <th>2006</th>\n",
       "      <th>2007</th>\n",
       "    </tr>\n",
       "  </thead>\n",
       "  <tbody>\n",
       "    <tr>\n",
       "      <th>112</th>\n",
       "      <td>adults</td>\n",
       "      <td>Anxiety disorder</td>\n",
       "      <td>Total</td>\n",
       "      <td>10.3</td>\n",
       "      <td>9.5</td>\n",
       "      <td>7.8</td>\n",
       "      <td>8.4</td>\n",
       "      <td>6.4</td>\n",
       "      <td>6.1</td>\n",
       "      <td>4.3</td>\n",
       "      <td>NaN</td>\n",
       "    </tr>\n",
       "    <tr>\n",
       "      <th>178</th>\n",
       "      <td>adults</td>\n",
       "      <td>Bipolar disorder</td>\n",
       "      <td>Total</td>\n",
       "      <td>1.1</td>\n",
       "      <td>0.9</td>\n",
       "      <td>0.8</td>\n",
       "      <td>1.0</td>\n",
       "      <td>0.9</td>\n",
       "      <td>0.8</td>\n",
       "      <td>0.7</td>\n",
       "      <td>NaN</td>\n",
       "    </tr>\n",
       "    <tr>\n",
       "      <th>909</th>\n",
       "      <td>adults</td>\n",
       "      <td>Heart failure</td>\n",
       "      <td>Total</td>\n",
       "      <td>2.1</td>\n",
       "      <td>1.9</td>\n",
       "      <td>1.9</td>\n",
       "      <td>2.0</td>\n",
       "      <td>2.1</td>\n",
       "      <td>2.0</td>\n",
       "      <td>2.1</td>\n",
       "      <td>NaN</td>\n",
       "    </tr>\n",
       "    <tr>\n",
       "      <th>931</th>\n",
       "      <td>adults</td>\n",
       "      <td>Heavy smokers</td>\n",
       "      <td>Total</td>\n",
       "      <td>7.7</td>\n",
       "      <td>7.4</td>\n",
       "      <td>8.2</td>\n",
       "      <td>8.5</td>\n",
       "      <td>9.3</td>\n",
       "      <td>9.6</td>\n",
       "      <td>10.7</td>\n",
       "      <td>NaN</td>\n",
       "    </tr>\n",
       "    <tr>\n",
       "      <th>1403</th>\n",
       "      <td>adults</td>\n",
       "      <td>Obese class 3</td>\n",
       "      <td>Total</td>\n",
       "      <td>5.5</td>\n",
       "      <td>5.1</td>\n",
       "      <td>5.3</td>\n",
       "      <td>4.5</td>\n",
       "      <td>4.4</td>\n",
       "      <td>3.8</td>\n",
       "      <td>3.4</td>\n",
       "      <td>NaN</td>\n",
       "    </tr>\n",
       "    <tr>\n",
       "      <th>1835</th>\n",
       "      <td>adults</td>\n",
       "      <td>Unmet need for GP due to cost</td>\n",
       "      <td>Total</td>\n",
       "      <td>14.3</td>\n",
       "      <td>14.3</td>\n",
       "      <td>13.7</td>\n",
       "      <td>14.0</td>\n",
       "      <td>14.5</td>\n",
       "      <td>13.6</td>\n",
       "      <td>NaN</td>\n",
       "      <td>NaN</td>\n",
       "    </tr>\n",
       "  </tbody>\n",
       "</table>\n",
       "</div>"
      ],
      "text/plain": [
       "     population                    description  group  2016  2015  2014  2013  \\\n",
       "112      adults               Anxiety disorder  Total  10.3   9.5   7.8   8.4   \n",
       "178      adults               Bipolar disorder  Total   1.1   0.9   0.8   1.0   \n",
       "909      adults                  Heart failure  Total   2.1   1.9   1.9   2.0   \n",
       "931      adults                  Heavy smokers  Total   7.7   7.4   8.2   8.5   \n",
       "1403     adults                  Obese class 3  Total   5.5   5.1   5.3   4.5   \n",
       "1835     adults  Unmet need for GP due to cost  Total  14.3  14.3  13.7  14.0   \n",
       "\n",
       "      2012  2011  2006  2007  \n",
       "112    6.4   6.1   4.3   NaN  \n",
       "178    0.9   0.8   0.7   NaN  \n",
       "909    2.1   2.0   2.1   NaN  \n",
       "931    9.3   9.6  10.7   NaN  \n",
       "1403   4.4   3.8   3.4   NaN  \n",
       "1835  14.5  13.6   NaN   NaN  "
      ]
     },
     "execution_count": 11,
     "metadata": {},
     "output_type": "execute_result"
    }
   ],
   "source": [
    "# Save a new health_survey_df with following criteria: match six of the 'description' of your choice,\n",
    "#                                        match the 'Total' label in the group column,\n",
    "#                                        match the 'adult' label in the population column\n",
    "new_hs_df = hs_df.query('population == \"adults\" and group == \"Total\" and (description == \"Bipolar disorder\" or \\\n",
    "                   description == \"Anxiety disorder\" or description == \"Heavy smokers\" or description == \"Obese class 3\" or \\\n",
    "                   description == \"Heart failure\" or description == \"Unmet need for GP due to cost\")')\n",
    "new_hs_df"
   ]
  },
  {
   "cell_type": "markdown",
   "metadata": {},
   "source": [
    "### Wrangling and reshaping"
   ]
  },
  {
   "cell_type": "code",
   "execution_count": 12,
   "metadata": {
    "scrolled": true
   },
   "outputs": [
    {
     "data": {
      "text/html": [
       "<div>\n",
       "<style scoped>\n",
       "    .dataframe tbody tr th:only-of-type {\n",
       "        vertical-align: middle;\n",
       "    }\n",
       "\n",
       "    .dataframe tbody tr th {\n",
       "        vertical-align: top;\n",
       "    }\n",
       "\n",
       "    .dataframe thead th {\n",
       "        text-align: right;\n",
       "    }\n",
       "</style>\n",
       "<table border=\"1\" class=\"dataframe\">\n",
       "  <thead>\n",
       "    <tr style=\"text-align: right;\">\n",
       "      <th>description</th>\n",
       "      <th>Anxiety disorder</th>\n",
       "      <th>Bipolar disorder</th>\n",
       "      <th>Heart failure</th>\n",
       "      <th>Heavy smokers</th>\n",
       "      <th>Obese class 3</th>\n",
       "      <th>Unmet need for GP due to cost</th>\n",
       "    </tr>\n",
       "    <tr>\n",
       "      <th>Year</th>\n",
       "      <th></th>\n",
       "      <th></th>\n",
       "      <th></th>\n",
       "      <th></th>\n",
       "      <th></th>\n",
       "      <th></th>\n",
       "    </tr>\n",
       "  </thead>\n",
       "  <tbody>\n",
       "    <tr>\n",
       "      <th>2006</th>\n",
       "      <td>4.3</td>\n",
       "      <td>0.7</td>\n",
       "      <td>2.1</td>\n",
       "      <td>10.7</td>\n",
       "      <td>3.4</td>\n",
       "      <td>NaN</td>\n",
       "    </tr>\n",
       "    <tr>\n",
       "      <th>2007</th>\n",
       "      <td>NaN</td>\n",
       "      <td>NaN</td>\n",
       "      <td>NaN</td>\n",
       "      <td>NaN</td>\n",
       "      <td>NaN</td>\n",
       "      <td>NaN</td>\n",
       "    </tr>\n",
       "    <tr>\n",
       "      <th>2011</th>\n",
       "      <td>6.1</td>\n",
       "      <td>0.8</td>\n",
       "      <td>2</td>\n",
       "      <td>9.6</td>\n",
       "      <td>3.8</td>\n",
       "      <td>13.6</td>\n",
       "    </tr>\n",
       "    <tr>\n",
       "      <th>2012</th>\n",
       "      <td>6.4</td>\n",
       "      <td>0.9</td>\n",
       "      <td>2.1</td>\n",
       "      <td>9.3</td>\n",
       "      <td>4.4</td>\n",
       "      <td>14.5</td>\n",
       "    </tr>\n",
       "    <tr>\n",
       "      <th>2013</th>\n",
       "      <td>8.4</td>\n",
       "      <td>1</td>\n",
       "      <td>2</td>\n",
       "      <td>8.5</td>\n",
       "      <td>4.5</td>\n",
       "      <td>14</td>\n",
       "    </tr>\n",
       "    <tr>\n",
       "      <th>2014</th>\n",
       "      <td>7.8</td>\n",
       "      <td>0.8</td>\n",
       "      <td>1.9</td>\n",
       "      <td>8.2</td>\n",
       "      <td>5.3</td>\n",
       "      <td>13.7</td>\n",
       "    </tr>\n",
       "    <tr>\n",
       "      <th>2015</th>\n",
       "      <td>9.5</td>\n",
       "      <td>0.9</td>\n",
       "      <td>1.9</td>\n",
       "      <td>7.4</td>\n",
       "      <td>5.1</td>\n",
       "      <td>14.3</td>\n",
       "    </tr>\n",
       "    <tr>\n",
       "      <th>2016</th>\n",
       "      <td>10.3</td>\n",
       "      <td>1.1</td>\n",
       "      <td>2.1</td>\n",
       "      <td>7.7</td>\n",
       "      <td>5.5</td>\n",
       "      <td>14.3</td>\n",
       "    </tr>\n",
       "  </tbody>\n",
       "</table>\n",
       "</div>"
      ],
      "text/plain": [
       "description Anxiety disorder Bipolar disorder Heart failure Heavy smokers  \\\n",
       "Year                                                                        \n",
       "2006                     4.3              0.7           2.1          10.7   \n",
       "2007                     NaN              NaN           NaN           NaN   \n",
       "2011                     6.1              0.8             2           9.6   \n",
       "2012                     6.4              0.9           2.1           9.3   \n",
       "2013                     8.4                1             2           8.5   \n",
       "2014                     7.8              0.8           1.9           8.2   \n",
       "2015                     9.5              0.9           1.9           7.4   \n",
       "2016                    10.3              1.1           2.1           7.7   \n",
       "\n",
       "description Obese class 3 Unmet need for GP due to cost  \n",
       "Year                                                     \n",
       "2006                  3.4                           NaN  \n",
       "2007                  NaN                           NaN  \n",
       "2011                  3.8                          13.6  \n",
       "2012                  4.4                          14.5  \n",
       "2013                  4.5                            14  \n",
       "2014                  5.3                          13.7  \n",
       "2015                  5.1                          14.3  \n",
       "2016                  5.5                          14.3  "
      ]
     },
     "execution_count": 12,
     "metadata": {},
     "output_type": "execute_result"
    }
   ],
   "source": [
    "# Reshape the dataframe according to given instruction\n",
    "shaped_hs_df = new_hs_df.set_index('description').T\n",
    "shaped_hs_df.drop(['population', 'group'], axis=0, inplace=True)\n",
    "shaped_hs_df.rename_axis('Year', inplace=True)\n",
    "shaped_hs_df.sort_values(by=['Year'], inplace=True)\n",
    "shaped_hs_df"
   ]
  },
  {
   "cell_type": "markdown",
   "metadata": {},
   "source": [
    "### Creating a function"
   ]
  },
  {
   "cell_type": "markdown",
   "metadata": {},
   "source": [
    "Function that will perform the wrangling from new_hs_df and shaped_hs_df for any combination of population, group\n",
    "and any number of description labels"
   ]
  },
  {
   "cell_type": "code",
   "execution_count": 13,
   "metadata": {},
   "outputs": [
    {
     "data": {
      "text/html": [
       "<div>\n",
       "<style scoped>\n",
       "    .dataframe tbody tr th:only-of-type {\n",
       "        vertical-align: middle;\n",
       "    }\n",
       "\n",
       "    .dataframe tbody tr th {\n",
       "        vertical-align: top;\n",
       "    }\n",
       "\n",
       "    .dataframe thead th {\n",
       "        text-align: right;\n",
       "    }\n",
       "</style>\n",
       "<table border=\"1\" class=\"dataframe\">\n",
       "  <thead>\n",
       "    <tr style=\"text-align: right;\">\n",
       "      <th>description</th>\n",
       "      <th>Anxiety disorder</th>\n",
       "      <th>Bipolar disorder</th>\n",
       "      <th>Depression</th>\n",
       "    </tr>\n",
       "    <tr>\n",
       "      <th>Year</th>\n",
       "      <th></th>\n",
       "      <th></th>\n",
       "      <th></th>\n",
       "    </tr>\n",
       "  </thead>\n",
       "  <tbody>\n",
       "    <tr>\n",
       "      <th>2006</th>\n",
       "      <td>4.3</td>\n",
       "      <td>0.7</td>\n",
       "      <td>10.4</td>\n",
       "    </tr>\n",
       "    <tr>\n",
       "      <th>2007</th>\n",
       "      <td>NaN</td>\n",
       "      <td>NaN</td>\n",
       "      <td>NaN</td>\n",
       "    </tr>\n",
       "    <tr>\n",
       "      <th>2011</th>\n",
       "      <td>6.1</td>\n",
       "      <td>0.8</td>\n",
       "      <td>14.3</td>\n",
       "    </tr>\n",
       "    <tr>\n",
       "      <th>2012</th>\n",
       "      <td>6.4</td>\n",
       "      <td>0.9</td>\n",
       "      <td>14.5</td>\n",
       "    </tr>\n",
       "    <tr>\n",
       "      <th>2013</th>\n",
       "      <td>8.4</td>\n",
       "      <td>1</td>\n",
       "      <td>15.5</td>\n",
       "    </tr>\n",
       "    <tr>\n",
       "      <th>2014</th>\n",
       "      <td>7.8</td>\n",
       "      <td>0.8</td>\n",
       "      <td>14.6</td>\n",
       "    </tr>\n",
       "    <tr>\n",
       "      <th>2015</th>\n",
       "      <td>9.5</td>\n",
       "      <td>0.9</td>\n",
       "      <td>15.4</td>\n",
       "    </tr>\n",
       "    <tr>\n",
       "      <th>2016</th>\n",
       "      <td>10.3</td>\n",
       "      <td>1.1</td>\n",
       "      <td>16.7</td>\n",
       "    </tr>\n",
       "  </tbody>\n",
       "</table>\n",
       "</div>"
      ],
      "text/plain": [
       "description Anxiety disorder Bipolar disorder Depression\n",
       "Year                                                    \n",
       "2006                     4.3              0.7       10.4\n",
       "2007                     NaN              NaN        NaN\n",
       "2011                     6.1              0.8       14.3\n",
       "2012                     6.4              0.9       14.5\n",
       "2013                     8.4                1       15.5\n",
       "2014                     7.8              0.8       14.6\n",
       "2015                     9.5              0.9       15.4\n",
       "2016                    10.3              1.1       16.7"
      ]
     },
     "execution_count": 13,
     "metadata": {},
     "output_type": "execute_result"
    }
   ],
   "source": [
    "def wrangle(population, group, description):\n",
    "    new_hs_df = hs_df[(hs_df.population == population) & (hs_df.group == group) & (hs_df.description.isin(description))]  \n",
    "    shaped_hs_df = new_hs_df.set_index('description').T\n",
    "    shaped_hs_df.drop(['population', 'group'], axis=0, inplace=True)\n",
    "    shaped_hs_df.rename_axis('Year', inplace=True)\n",
    "    shaped_hs_df.sort_values(by=['Year'], inplace=True)\n",
    "    return shaped_hs_df\n",
    "# Test 1\n",
    "wrangle('adults', 'Total',[\"Bipolar disorder\", \"Anxiety disorder\", \"Depression\"])"
   ]
  },
  {
   "cell_type": "code",
   "execution_count": 14,
   "metadata": {},
   "outputs": [
    {
     "data": {
      "text/html": [
       "<div>\n",
       "<style scoped>\n",
       "    .dataframe tbody tr th:only-of-type {\n",
       "        vertical-align: middle;\n",
       "    }\n",
       "\n",
       "    .dataframe tbody tr th {\n",
       "        vertical-align: top;\n",
       "    }\n",
       "\n",
       "    .dataframe thead th {\n",
       "        text-align: right;\n",
       "    }\n",
       "</style>\n",
       "<table border=\"1\" class=\"dataframe\">\n",
       "  <thead>\n",
       "    <tr style=\"text-align: right;\">\n",
       "      <th>description</th>\n",
       "      <th>Emotional and/or behavioural problems</th>\n",
       "      <th>Fruit intake</th>\n",
       "      <th>Television watching</th>\n",
       "    </tr>\n",
       "    <tr>\n",
       "      <th>Year</th>\n",
       "      <th></th>\n",
       "      <th></th>\n",
       "      <th></th>\n",
       "    </tr>\n",
       "  </thead>\n",
       "  <tbody>\n",
       "    <tr>\n",
       "      <th>2006</th>\n",
       "      <td>1.8</td>\n",
       "      <td>NaN</td>\n",
       "      <td>NaN</td>\n",
       "    </tr>\n",
       "    <tr>\n",
       "      <th>2007</th>\n",
       "      <td>NaN</td>\n",
       "      <td>NaN</td>\n",
       "      <td>NaN</td>\n",
       "    </tr>\n",
       "    <tr>\n",
       "      <th>2011</th>\n",
       "      <td>3.3</td>\n",
       "      <td>71.6</td>\n",
       "      <td>53</td>\n",
       "    </tr>\n",
       "    <tr>\n",
       "      <th>2012</th>\n",
       "      <td>4.4</td>\n",
       "      <td>73.3</td>\n",
       "      <td>52.3</td>\n",
       "    </tr>\n",
       "    <tr>\n",
       "      <th>2013</th>\n",
       "      <td>4</td>\n",
       "      <td>73.1</td>\n",
       "      <td>49.3</td>\n",
       "    </tr>\n",
       "    <tr>\n",
       "      <th>2014</th>\n",
       "      <td>4</td>\n",
       "      <td>74.8</td>\n",
       "      <td>44.8</td>\n",
       "    </tr>\n",
       "    <tr>\n",
       "      <th>2015</th>\n",
       "      <td>4.3</td>\n",
       "      <td>73.6</td>\n",
       "      <td>44.8</td>\n",
       "    </tr>\n",
       "    <tr>\n",
       "      <th>2016</th>\n",
       "      <td>4.9</td>\n",
       "      <td>72.4</td>\n",
       "      <td>38.1</td>\n",
       "    </tr>\n",
       "  </tbody>\n",
       "</table>\n",
       "</div>"
      ],
      "text/plain": [
       "description Emotional and/or behavioural problems Fruit intake  \\\n",
       "Year                                                             \n",
       "2006                                          1.8          NaN   \n",
       "2007                                          NaN          NaN   \n",
       "2011                                          3.3         71.6   \n",
       "2012                                          4.4         73.3   \n",
       "2013                                            4         73.1   \n",
       "2014                                            4         74.8   \n",
       "2015                                          4.3         73.6   \n",
       "2016                                          4.9         72.4   \n",
       "\n",
       "description Television watching  \n",
       "Year                             \n",
       "2006                        NaN  \n",
       "2007                        NaN  \n",
       "2011                         53  \n",
       "2012                       52.3  \n",
       "2013                       49.3  \n",
       "2014                       44.8  \n",
       "2015                       44.8  \n",
       "2016                       38.1  "
      ]
     },
     "execution_count": 14,
     "metadata": {},
     "output_type": "execute_result"
    }
   ],
   "source": [
    "# Test 2\n",
    "wrangle('children', 'Total', [\"Fruit intake\", \"Little or no physical activity\", \"Emotional and/or behavioural problems\", \"Television watching\"])"
   ]
  },
  {
   "cell_type": "code",
   "execution_count": 15,
   "metadata": {
    "scrolled": true
   },
   "outputs": [
    {
     "data": {
      "text/html": [
       "<div>\n",
       "<style scoped>\n",
       "    .dataframe tbody tr th:only-of-type {\n",
       "        vertical-align: middle;\n",
       "    }\n",
       "\n",
       "    .dataframe tbody tr th {\n",
       "        vertical-align: top;\n",
       "    }\n",
       "\n",
       "    .dataframe thead th {\n",
       "        text-align: right;\n",
       "    }\n",
       "</style>\n",
       "<table border=\"1\" class=\"dataframe\">\n",
       "  <thead>\n",
       "    <tr style=\"text-align: right;\">\n",
       "      <th>description</th>\n",
       "      <th>Current smokers</th>\n",
       "      <th>Excellent, very good or good self-rated health</th>\n",
       "    </tr>\n",
       "    <tr>\n",
       "      <th>Year</th>\n",
       "      <th></th>\n",
       "      <th></th>\n",
       "    </tr>\n",
       "  </thead>\n",
       "  <tbody>\n",
       "    <tr>\n",
       "      <th>2006</th>\n",
       "      <td>18.9</td>\n",
       "      <td>89.7</td>\n",
       "    </tr>\n",
       "    <tr>\n",
       "      <th>2007</th>\n",
       "      <td>NaN</td>\n",
       "      <td>NaN</td>\n",
       "    </tr>\n",
       "    <tr>\n",
       "      <th>2011</th>\n",
       "      <td>17.5</td>\n",
       "      <td>88.9</td>\n",
       "    </tr>\n",
       "    <tr>\n",
       "      <th>2012</th>\n",
       "      <td>16.7</td>\n",
       "      <td>89.7</td>\n",
       "    </tr>\n",
       "    <tr>\n",
       "      <th>2013</th>\n",
       "      <td>15.8</td>\n",
       "      <td>91.5</td>\n",
       "    </tr>\n",
       "    <tr>\n",
       "      <th>2014</th>\n",
       "      <td>15</td>\n",
       "      <td>88.7</td>\n",
       "    </tr>\n",
       "    <tr>\n",
       "      <th>2015</th>\n",
       "      <td>14.6</td>\n",
       "      <td>87.5</td>\n",
       "    </tr>\n",
       "    <tr>\n",
       "      <th>2016</th>\n",
       "      <td>14.1</td>\n",
       "      <td>88.3</td>\n",
       "    </tr>\n",
       "  </tbody>\n",
       "</table>\n",
       "</div>"
      ],
      "text/plain": [
       "description Current smokers Excellent, very good or good self-rated health\n",
       "Year                                                                      \n",
       "2006                   18.9                                           89.7\n",
       "2007                    NaN                                            NaN\n",
       "2011                   17.5                                           88.9\n",
       "2012                   16.7                                           89.7\n",
       "2013                   15.8                                           91.5\n",
       "2014                     15                                           88.7\n",
       "2015                   14.6                                           87.5\n",
       "2016                   14.1                                           88.3"
      ]
     },
     "execution_count": 15,
     "metadata": {},
     "output_type": "execute_result"
    }
   ],
   "source": [
    "# Test 3\n",
    "wrangle('adults', 'Women', ['Excellent, very good or good self-rated health', 'Current smokers'])"
   ]
  },
  {
   "cell_type": "markdown",
   "metadata": {},
   "source": [
    "### Plotting:"
   ]
  },
  {
   "cell_type": "markdown",
   "metadata": {},
   "source": [
    "Two plots by using dataframes created"
   ]
  },
  {
   "cell_type": "code",
   "execution_count": 16,
   "metadata": {
    "scrolled": true
   },
   "outputs": [],
   "source": [
    "# Import some extra plotting libraries that pretty-fy the plots \n",
    "import seaborn as sns\n",
    "from pylab import rcParams\n",
    "\n",
    "rcParams['figure.dpi'] =120\n",
    "rcParams['lines.linewidth'] = 2\n",
    "rcParams['axes.facecolor'] = 'white'\n",
    "rcParams['patch.edgecolor'] = 'grey'\n",
    "rcParams['font.family'] = 'Arial'"
   ]
  },
  {
   "cell_type": "code",
   "execution_count": 17,
   "metadata": {
    "scrolled": true
   },
   "outputs": [],
   "source": [
    "# Create data frame that will be used for plotting\n",
    "hs_df_to_plot = new_hs_df.drop(['population', 'group'], axis=1)\n",
    "hs_df_to_plot = hs_df_to_plot.set_index('description')\n",
    "hs_df_to_plot.rename_axis(None, axis=0, inplace=True)\n",
    "hs_df_to_plot = hs_df_to_plot.reindex(sorted(hs_df_to_plot.columns), axis=1)"
   ]
  },
  {
   "cell_type": "markdown",
   "metadata": {},
   "source": [
    "#### Plot 1"
   ]
  },
  {
   "cell_type": "raw",
   "metadata": {},
   "source": [
    "Plot 1 displays the trend in selected health indicators for adults in NZ during the periof from 2006 until 2016, except for the year 2007 - no data found. The data shows that problems like anxiety disorder, obesity class 3 increased during the period. At the same time, heavy smoking seems to decline. On the other hand, indicators like 'bipolar disorder' and 'heart failure' haven't changed much. The data also presents that 14% of adults haven't got help from GP due to the cost every year. "
   ]
  },
  {
   "cell_type": "code",
   "execution_count": 18,
   "metadata": {
    "scrolled": true
   },
   "outputs": [
    {
     "data": {
      "text/plain": [
       "Text(0, 0.5, 'Total % of adults')"
      ]
     },
     "execution_count": 18,
     "metadata": {},
     "output_type": "execute_result"
    },
    {
     "data": {
      "image/png": "[encoded data removed]",
      "text/plain": [
       "<Figure size 720x480 with 1 Axes>"
      ]
     },
     "metadata": {
      "needs_background": "light"
     },
     "output_type": "display_data"
    }
   ],
   "source": [
    "plot1 = hs_df_to_plot.T.plot(kind='bar')\n",
    "plt.title(\"Selected health indicators for adults in NZ (2006-2016)\", alpha=0.5)\n",
    "plot1.set_xlabel(\"Year\", alpha=0.5)\n",
    "plot1.set_ylabel(\"Total % of adults\", alpha=0.5)"
   ]
  },
  {
   "cell_type": "markdown",
   "metadata": {},
   "source": [
    "#### Plot 2"
   ]
  },
  {
   "cell_type": "markdown",
   "metadata": {},
   "source": [
    "Plot 2 displays a change in the number of adults suffering from an anxiety disorder in NZ between 2006 and 2016. The chart shows that the number of people is suffering from an anxiety disorder is slowly increasing each year, except for the year 2007 - no data recorded."
   ]
  },
  {
   "cell_type": "code",
   "execution_count": 19,
   "metadata": {
    "scrolled": true
   },
   "outputs": [
    {
     "data": {
      "text/plain": [
       "Text(0, 0.5, 'Total % of adults')"
      ]
     },
     "execution_count": 19,
     "metadata": {},
     "output_type": "execute_result"
    },
    {
     "data": {
      "image/png": "[encoded data removed]",
      "text/plain": [
       "<Figure size 720x480 with 1 Axes>"
      ]
     },
     "metadata": {
      "needs_background": "light"
     },
     "output_type": "display_data"
    }
   ],
   "source": [
    "plot2 = hs_df_to_plot.iloc[0].plot(kind='bar')\n",
    "plt.title(\"Number of adults in NZ suffering from Anxiety disorder (2006-2016)\", alpha=0.5)\n",
    "plot2.set_xlabel(\"Year\", alpha=0.5)\n",
    "plot2.set_ylabel(\"Total % of adults\", alpha=0.5)"
   ]
  },
  {
   "cell_type": "markdown",
   "metadata": {},
   "source": [
    "## Question 2: NZ Top 100 baby names"
   ]
  },
  {
   "cell_type": "markdown",
   "metadata": {},
   "source": [
    "### Grouping and plotting"
   ]
  },
  {
   "cell_type": "code",
   "execution_count": 21,
   "metadata": {
    "scrolled": false
   },
   "outputs": [
    {
     "data": {
      "text/html": [
       "<div>\n",
       "<style scoped>\n",
       "    .dataframe tbody tr th:only-of-type {\n",
       "        vertical-align: middle;\n",
       "    }\n",
       "\n",
       "    .dataframe tbody tr th {\n",
       "        vertical-align: top;\n",
       "    }\n",
       "\n",
       "    .dataframe thead th {\n",
       "        text-align: right;\n",
       "    }\n",
       "</style>\n",
       "<table border=\"1\" class=\"dataframe\">\n",
       "  <thead>\n",
       "    <tr style=\"text-align: right;\">\n",
       "      <th></th>\n",
       "      <th>Name</th>\n",
       "      <th>No.</th>\n",
       "      <th>year</th>\n",
       "      <th>sex</th>\n",
       "    </tr>\n",
       "  </thead>\n",
       "  <tbody>\n",
       "    <tr>\n",
       "      <th>0</th>\n",
       "      <td>Christine</td>\n",
       "      <td>779</td>\n",
       "      <td>1954</td>\n",
       "      <td>Female</td>\n",
       "    </tr>\n",
       "    <tr>\n",
       "      <th>1</th>\n",
       "      <td>Susan</td>\n",
       "      <td>735</td>\n",
       "      <td>1954</td>\n",
       "      <td>Female</td>\n",
       "    </tr>\n",
       "    <tr>\n",
       "      <th>2</th>\n",
       "      <td>Margaret</td>\n",
       "      <td>562</td>\n",
       "      <td>1954</td>\n",
       "      <td>Female</td>\n",
       "    </tr>\n",
       "    <tr>\n",
       "      <th>3</th>\n",
       "      <td>Judith</td>\n",
       "      <td>531</td>\n",
       "      <td>1954</td>\n",
       "      <td>Female</td>\n",
       "    </tr>\n",
       "    <tr>\n",
       "      <th>4</th>\n",
       "      <td>Jennifer</td>\n",
       "      <td>460</td>\n",
       "      <td>1954</td>\n",
       "      <td>Female</td>\n",
       "    </tr>\n",
       "  </tbody>\n",
       "</table>\n",
       "</div>"
      ],
      "text/plain": [
       "        Name  No.  year     sex\n",
       "0  Christine  779  1954  Female\n",
       "1      Susan  735  1954  Female\n",
       "2   Margaret  562  1954  Female\n",
       "3     Judith  531  1954  Female\n",
       "4   Jennifer  460  1954  Female"
      ]
     },
     "execution_count": 21,
     "metadata": {},
     "output_type": "execute_result"
    }
   ],
   "source": [
    "# Import data\n",
    "bn_df = pd.read_csv(\"../datasets/baby_names.csv\", encoding = \"latin\")\n",
    "bn_df.head()"
   ]
  },
  {
   "cell_type": "markdown",
   "metadata": {},
   "source": [
    "#### Plot 1 - Children named top 100 in NZ from 1990 - 2018"
   ]
  },
  {
   "cell_type": "markdown",
   "metadata": {},
   "source": [
    "The chart shows the total number of children with a popular name in NZ. According to the data, there is a noticeable decline during this period. However, it is unclear whether this decline was due to the decrease in the birth rate or an increase in the variety of names. "
   ]
  },
  {
   "cell_type": "code",
   "execution_count": 22,
   "metadata": {},
   "outputs": [
    {
     "data": {
      "text/plain": [
       "Text(0, 0.5, 'Children')"
      ]
     },
     "execution_count": 22,
     "metadata": {},
     "output_type": "execute_result"
    },
    {
     "data": {
      "image/png": "[encoded data removed]",
      "text/plain": [
       "<Figure size 720x480 with 1 Axes>"
      ]
     },
     "metadata": {
      "needs_background": "light"
     },
     "output_type": "display_data"
    }
   ],
   "source": [
    "total_df = bn_df[(bn_df.year > 1990)].groupby(['year'], as_index=False)['No.'].sum()\n",
    "total_df = total_df.set_index('year')\n",
    "plot5 = total_df.plot.bar()\n",
    "plt.title(\"Children with popular name in NZ (1990-2018)\", alpha=0.5)\n",
    "plot5.set_xlabel(\"Year\", alpha=0.5)\n",
    "plot5.set_ylabel(\"Children\", alpha=0.5)"
   ]
  },
  {
   "cell_type": "markdown",
   "metadata": {},
   "source": [
    "#### Plot 2 - Number of boys and girls named top 100 popular names for the peroid 1990-2018"
   ]
  },
  {
   "cell_type": "markdown",
   "metadata": {},
   "source": [
    "The chart shows the number of boys and girls with a popular name from 1990. Assuming that the total number of boys and girls born each year is close, the data shows that diversity among girl names is higher. "
   ]
  },
  {
   "cell_type": "code",
   "execution_count": 23,
   "metadata": {
    "scrolled": true
   },
   "outputs": [
    {
     "data": {
      "text/plain": [
       "Text(0, 0.5, 'Children')"
      ]
     },
     "execution_count": 23,
     "metadata": {},
     "output_type": "execute_result"
    },
    {
     "data": {
      "image/png": "[encoded data removed]",
      "text/plain": [
       "<Figure size 720x480 with 1 Axes>"
      ]
     },
     "metadata": {
      "needs_background": "light"
     },
     "output_type": "display_data"
    }
   ],
   "source": [
    "babies_df = bn_df[(bn_df.year > 1990)]\n",
    "babies_df = babies_df.groupby(['year', 'sex'], as_index=False)['No.'].sum()\n",
    "babies_df = babies_df.set_index('year').pivot_table(index=['year'], columns=['sex'], values='No.')\n",
    "plot3 = babies_df.plot.bar()\n",
    "plt.title(\"Girls and boys with popular names in NZ (1990-2018)\", alpha=0.5)\n",
    "plot3.set_xlabel(\"Year\", alpha=0.5)\n",
    "plot3.set_ylabel(\"Children\", alpha=0.5)"
   ]
  },
  {
   "cell_type": "markdown",
   "metadata": {},
   "source": [
    "#### Plot 3 - Trend of the most popular boy's and girl's name from 1990"
   ]
  },
  {
   "cell_type": "markdown",
   "metadata": {},
   "source": [
    "The chart shows the trend for the most popular boy's and girl's name in NZ from 1990. The popularity of the most common name decreased dramatically for the period provided for both genders."
   ]
  },
  {
   "cell_type": "code",
   "execution_count": 24,
   "metadata": {
    "scrolled": false
   },
   "outputs": [
    {
     "data": {
      "text/html": [
       "<div>\n",
       "<style scoped>\n",
       "    .dataframe tbody tr th:only-of-type {\n",
       "        vertical-align: middle;\n",
       "    }\n",
       "\n",
       "    .dataframe tbody tr th {\n",
       "        vertical-align: top;\n",
       "    }\n",
       "\n",
       "    .dataframe thead th {\n",
       "        text-align: right;\n",
       "    }\n",
       "</style>\n",
       "<table border=\"1\" class=\"dataframe\">\n",
       "  <thead>\n",
       "    <tr style=\"text-align: right;\">\n",
       "      <th></th>\n",
       "      <th>No.</th>\n",
       "      <th>year</th>\n",
       "    </tr>\n",
       "    <tr>\n",
       "      <th>Name</th>\n",
       "      <th></th>\n",
       "      <th></th>\n",
       "    </tr>\n",
       "  </thead>\n",
       "  <tbody>\n",
       "    <tr>\n",
       "      <th>Sarah</th>\n",
       "      <td>19943</td>\n",
       "      <td>121268</td>\n",
       "    </tr>\n",
       "  </tbody>\n",
       "</table>\n",
       "</div>"
      ],
      "text/plain": [
       "         No.    year\n",
       "Name                \n",
       "Sarah  19943  121268"
      ]
     },
     "execution_count": 24,
     "metadata": {},
     "output_type": "execute_result"
    }
   ],
   "source": [
    "# Find the most popular girl's name amongst data\n",
    "female_bn = bn_df[bn_df.sex == 'Female'].groupby('Name').sum().sort_values('No.', ascending=False)\n",
    "female_bn.head(1)"
   ]
  },
  {
   "cell_type": "code",
   "execution_count": 25,
   "metadata": {
    "scrolled": false
   },
   "outputs": [
    {
     "data": {
      "text/html": [
       "<div>\n",
       "<style scoped>\n",
       "    .dataframe tbody tr th:only-of-type {\n",
       "        vertical-align: middle;\n",
       "    }\n",
       "\n",
       "    .dataframe tbody tr th {\n",
       "        vertical-align: top;\n",
       "    }\n",
       "\n",
       "    .dataframe thead th {\n",
       "        text-align: right;\n",
       "    }\n",
       "</style>\n",
       "<table border=\"1\" class=\"dataframe\">\n",
       "  <thead>\n",
       "    <tr style=\"text-align: right;\">\n",
       "      <th></th>\n",
       "      <th>No.</th>\n",
       "      <th>year</th>\n",
       "    </tr>\n",
       "    <tr>\n",
       "      <th>Name</th>\n",
       "      <th></th>\n",
       "      <th></th>\n",
       "    </tr>\n",
       "  </thead>\n",
       "  <tbody>\n",
       "    <tr>\n",
       "      <th>Michael</th>\n",
       "      <td>40166</td>\n",
       "      <td>131078</td>\n",
       "    </tr>\n",
       "  </tbody>\n",
       "</table>\n",
       "</div>"
      ],
      "text/plain": [
       "           No.    year\n",
       "Name                  \n",
       "Michael  40166  131078"
      ]
     },
     "execution_count": 25,
     "metadata": {},
     "output_type": "execute_result"
    }
   ],
   "source": [
    "# Find the most popular boy's name amongst data\n",
    "male_bn = bn_df[bn_df.sex == 'Male'].groupby('Name').sum().sort_values('No.', ascending=False)\n",
    "male_bn.head(1)"
   ]
  },
  {
   "cell_type": "code",
   "execution_count": 26,
   "metadata": {
    "scrolled": true
   },
   "outputs": [
    {
     "data": {
      "text/plain": [
       "Text(0, 0.5, 'Number of babies')"
      ]
     },
     "execution_count": 26,
     "metadata": {},
     "output_type": "execute_result"
    },
    {
     "data": {
      "image/png": "[encoded data removed]",
      "text/plain": [
       "<Figure size 720x480 with 1 Axes>"
      ]
     },
     "metadata": {
      "needs_background": "light"
     },
     "output_type": "display_data"
    }
   ],
   "source": [
    "# Plot trend of the most popular girl's and boy's name from 2005\n",
    "names_to_plot = bn_df[((bn_df.Name == 'Michael') & (bn_df.year > 1990)) | ((bn_df.Name == 'Sarah') & (bn_df.year > 1990))]\n",
    "names_to_plot = names_to_plot.drop(['sex'], axis=1).set_index('year')\n",
    "names_to_plot = names_to_plot.pivot_table(index=['year'], columns=['Name'], values='No.')\n",
    "plot4 = names_to_plot.plot.line()\n",
    "plt.title(\"Trend of the names Michael and Sarah from 2005\", alpha=0.5)\n",
    "plot4.set_xlabel(\"Year\", alpha=0.5)\n",
    "plot4.set_ylabel(\"Number of babies\", alpha=0.5)"
   ]
  },
  {
   "cell_type": "markdown",
   "metadata": {},
   "source": [
    "## Question 3: NZ Indicator data"
   ]
  },
  {
   "cell_type": "markdown",
   "metadata": {},
   "source": [
    "# Poverty and Health in NZ\n",
    "\n",
    "## Objective\n",
    "\n",
    "Using \"nz_indicators.csv\" dataset find the relationship between poverty and health in NZ.\n",
    "\n",
    "## Introduction\n",
    "\n",
    "The \"nz_indicators.csv\" dataset covers socio-economic data on New Zealand, stretching back to the early 1980s. The data covers a range of topics: income and wealth distribution, poverty and deprivation levels, health measures, education outcomes, housing as well as employment. This dataset will be used to answer the following questions regarding poverty and health:\n",
    "\n",
    "1. the trend in poverty levels in NZ \n",
    "2. the change in the number of people with a healthy weight and what factors may affect it\n",
    "3. the correlation between poverty and suicides"
   ]
  },
  {
   "cell_type": "markdown",
   "metadata": {},
   "source": [
    "### Importing data\n",
    "Import appropriate data from dataset"
   ]
  },
  {
   "cell_type": "code",
   "execution_count": 27,
   "metadata": {
    "scrolled": false
   },
   "outputs": [
    {
     "data": {
      "text/html": [
       "<div>\n",
       "<style scoped>\n",
       "    .dataframe tbody tr th:only-of-type {\n",
       "        vertical-align: middle;\n",
       "    }\n",
       "\n",
       "    .dataframe tbody tr th {\n",
       "        vertical-align: top;\n",
       "    }\n",
       "\n",
       "    .dataframe thead th {\n",
       "        text-align: right;\n",
       "    }\n",
       "</style>\n",
       "<table border=\"1\" class=\"dataframe\">\n",
       "  <thead>\n",
       "    <tr style=\"text-align: right;\">\n",
       "      <th></th>\n",
       "      <th>year</th>\n",
       "      <th>LIH_B60_contemp_median_AHC</th>\n",
       "      <th>LIH_B50_contemp_median_AHC</th>\n",
       "      <th>LIH_B50_CV_AHC</th>\n",
       "      <th>LIH_B60_CV_AHC</th>\n",
       "      <th>LIH_B40_contemp_median_AHC</th>\n",
       "      <th>LIEH_B60_contemp_median_AHC</th>\n",
       "      <th>LIEH_B50_contemp_median_AHC</th>\n",
       "      <th>LIEH_B50_CV_median_AHC</th>\n",
       "      <th>LIEH_B60_CV_median_AHC</th>\n",
       "      <th>...</th>\n",
       "      <th>emotional_behavioural_problems_child</th>\n",
       "      <th>depression_child</th>\n",
       "      <th>excellent_very_good_or_good_parent_rated_health_child</th>\n",
       "      <th>unfilled_prescription_due_to_cost_child</th>\n",
       "      <th>unmet_need_for_after_hours_due_to_cost_child</th>\n",
       "      <th>healthy_weight_child</th>\n",
       "      <th>unmet_need_for_GP_due_to_cost_child</th>\n",
       "      <th>vegetable_and_fruit_intake_child</th>\n",
       "      <th>suicides_per_100000</th>\n",
       "      <th>problem_gambling_intervention_prevelance_percent</th>\n",
       "    </tr>\n",
       "  </thead>\n",
       "  <tbody>\n",
       "    <tr>\n",
       "      <th>0</th>\n",
       "      <td>31/12/2014 0:00</td>\n",
       "      <td>19</td>\n",
       "      <td>14</td>\n",
       "      <td>12</td>\n",
       "      <td>16</td>\n",
       "      <td>-</td>\n",
       "      <td>12</td>\n",
       "      <td>6</td>\n",
       "      <td>4</td>\n",
       "      <td>8</td>\n",
       "      <td>...</td>\n",
       "      <td>4</td>\n",
       "      <td>0.7</td>\n",
       "      <td>Q98.4</td>\n",
       "      <td>3.9</td>\n",
       "      <td>3.9</td>\n",
       "      <td>E62.6</td>\n",
       "      <td>J5.3</td>\n",
       "      <td>53.4U</td>\n",
       "      <td>11.730000</td>\n",
       "      <td>0.002798</td>\n",
       "    </tr>\n",
       "    <tr>\n",
       "      <th>1</th>\n",
       "      <td>31/12/2000 0:00</td>\n",
       "      <td>-</td>\n",
       "      <td>-</td>\n",
       "      <td>-</td>\n",
       "      <td>-</td>\n",
       "      <td>-</td>\n",
       "      <td>-</td>\n",
       "      <td>-</td>\n",
       "      <td>-</td>\n",
       "      <td>-</td>\n",
       "      <td>...</td>\n",
       "      <td>NaN</td>\n",
       "      <td>NaN</td>\n",
       "      <td>NaN</td>\n",
       "      <td>NaN</td>\n",
       "      <td>NaN</td>\n",
       "      <td>NaN</td>\n",
       "      <td>NaN</td>\n",
       "      <td>NaN</td>\n",
       "      <td>11.928744</td>\n",
       "      <td>NaN</td>\n",
       "    </tr>\n",
       "    <tr>\n",
       "      <th>2</th>\n",
       "      <td>31/12/1987 0:00</td>\n",
       "      <td>-</td>\n",
       "      <td>-</td>\n",
       "      <td>-</td>\n",
       "      <td>-</td>\n",
       "      <td>-</td>\n",
       "      <td>-</td>\n",
       "      <td>-</td>\n",
       "      <td>-</td>\n",
       "      <td>-</td>\n",
       "      <td>...</td>\n",
       "      <td>NaN</td>\n",
       "      <td>NaN</td>\n",
       "      <td>NaN</td>\n",
       "      <td>NaN</td>\n",
       "      <td>NaN</td>\n",
       "      <td>NaN</td>\n",
       "      <td>NaN</td>\n",
       "      <td>NaN</td>\n",
       "      <td>13.571673</td>\n",
       "      <td>NaN</td>\n",
       "    </tr>\n",
       "    <tr>\n",
       "      <th>3</th>\n",
       "      <td>31/12/2003 0:00</td>\n",
       "      <td>-</td>\n",
       "      <td>-</td>\n",
       "      <td>-</td>\n",
       "      <td>-</td>\n",
       "      <td>-</td>\n",
       "      <td>-</td>\n",
       "      <td>-</td>\n",
       "      <td>-</td>\n",
       "      <td>-</td>\n",
       "      <td>...</td>\n",
       "      <td>NaN</td>\n",
       "      <td>NaN</td>\n",
       "      <td>NaN</td>\n",
       "      <td>NaN</td>\n",
       "      <td>NaN</td>\n",
       "      <td>NaN</td>\n",
       "      <td>NaN</td>\n",
       "      <td>NaN</td>\n",
       "      <td>12.359663</td>\n",
       "      <td>NaN</td>\n",
       "    </tr>\n",
       "    <tr>\n",
       "      <th>4</th>\n",
       "      <td>31/12/2006 0:00</td>\n",
       "      <td>-</td>\n",
       "      <td>-</td>\n",
       "      <td>-</td>\n",
       "      <td>-</td>\n",
       "      <td>-</td>\n",
       "      <td>-</td>\n",
       "      <td>-</td>\n",
       "      <td>-</td>\n",
       "      <td>-</td>\n",
       "      <td>...</td>\n",
       "      <td>NaN</td>\n",
       "      <td>NaN</td>\n",
       "      <td>NaN</td>\n",
       "      <td>NaN</td>\n",
       "      <td>NaN</td>\n",
       "      <td>NaN</td>\n",
       "      <td>NaN</td>\n",
       "      <td>NaN</td>\n",
       "      <td>12.248800</td>\n",
       "      <td>0.000885</td>\n",
       "    </tr>\n",
       "  </tbody>\n",
       "</table>\n",
       "<p>5 rows × 43 columns</p>\n",
       "</div>"
      ],
      "text/plain": [
       "              year LIH_B60_contemp_median_AHC LIH_B50_contemp_median_AHC  \\\n",
       "0  31/12/2014 0:00                         19                         14   \n",
       "1  31/12/2000 0:00                          -                          -   \n",
       "2  31/12/1987 0:00                          -                          -   \n",
       "3  31/12/2003 0:00                          -                          -   \n",
       "4  31/12/2006 0:00                          -                          -   \n",
       "\n",
       "  LIH_B50_CV_AHC LIH_B60_CV_AHC LIH_B40_contemp_median_AHC  \\\n",
       "0             12             16                          -   \n",
       "1              -              -                          -   \n",
       "2              -              -                          -   \n",
       "3              -              -                          -   \n",
       "4              -              -                          -   \n",
       "\n",
       "  LIEH_B60_contemp_median_AHC LIEH_B50_contemp_median_AHC  \\\n",
       "0                          12                           6   \n",
       "1                           -                           -   \n",
       "2                           -                           -   \n",
       "3                           -                           -   \n",
       "4                           -                           -   \n",
       "\n",
       "  LIEH_B50_CV_median_AHC LIEH_B60_CV_median_AHC  ...  \\\n",
       "0                      4                      8  ...   \n",
       "1                      -                      -  ...   \n",
       "2                      -                      -  ...   \n",
       "3                      -                      -  ...   \n",
       "4                      -                      -  ...   \n",
       "\n",
       "  emotional_behavioural_problems_child depression_child  \\\n",
       "0                                    4              0.7   \n",
       "1                                  NaN              NaN   \n",
       "2                                  NaN              NaN   \n",
       "3                                  NaN              NaN   \n",
       "4                                  NaN              NaN   \n",
       "\n",
       "  excellent_very_good_or_good_parent_rated_health_child  \\\n",
       "0                                              Q98.4      \n",
       "1                                                NaN      \n",
       "2                                                NaN      \n",
       "3                                                NaN      \n",
       "4                                                NaN      \n",
       "\n",
       "  unfilled_prescription_due_to_cost_child  \\\n",
       "0                                     3.9   \n",
       "1                                     NaN   \n",
       "2                                     NaN   \n",
       "3                                     NaN   \n",
       "4                                     NaN   \n",
       "\n",
       "  unmet_need_for_after_hours_due_to_cost_child healthy_weight_child  \\\n",
       "0                                          3.9                E62.6   \n",
       "1                                          NaN                  NaN   \n",
       "2                                          NaN                  NaN   \n",
       "3                                          NaN                  NaN   \n",
       "4                                          NaN                  NaN   \n",
       "\n",
       "  unmet_need_for_GP_due_to_cost_child vegetable_and_fruit_intake_child  \\\n",
       "0                                J5.3                            53.4U   \n",
       "1                                 NaN                              NaN   \n",
       "2                                 NaN                              NaN   \n",
       "3                                 NaN                              NaN   \n",
       "4                                 NaN                              NaN   \n",
       "\n",
       "  suicides_per_100000 problem_gambling_intervention_prevelance_percent  \n",
       "0           11.730000                                         0.002798  \n",
       "1           11.928744                                              NaN  \n",
       "2           13.571673                                              NaN  \n",
       "3           12.359663                                              NaN  \n",
       "4           12.248800                                         0.000885  \n",
       "\n",
       "[5 rows x 43 columns]"
      ]
     },
     "execution_count": 27,
     "metadata": {},
     "output_type": "execute_result"
    }
   ],
   "source": [
    "# Import data\n",
    "nz_df = pd.read_csv(\"../datasets/nz_indicators.csv\", encoding = \"latin\")\n",
    "ph_df = nz_df[['year', 'LIH_B60_contemp_median_AHC', 'LIH_B50_contemp_median_AHC', 'LIH_B50_CV_AHC', 'LIH_B60_CV_AHC',\n",
    "               'LIH_B40_contemp_median_AHC', 'LIEH_B60_contemp_median_AHC', 'LIEH_B50_contemp_median_AHC', \n",
    "               'LIEH_B50_CV_median_AHC', 'LIEH_B60_CV_median_AHC', 'LIS65H_B60_CV_median_AHC', 'LISPH_B60_CV_median_AHC',\n",
    "               'LIS65H_B50_CV_median_AHC', 'LISPH_B50_CV_median_AHC', 'child_poverty_ahc_perc_HH_B50_CV',\n",
    "               'child_poverty_ahc_perc_HH_B60_CV', 'child_poverty_ahc_perc_HH_B40_contemp_median',\n",
    "               'child_poverty_ahc_perc_HH_B50_contemp_median', 'child_poverty_ahc_perc_HH_B60_contemp_median',\n",
    "               'child_poverty_ahc_perc_HH_B60_CV_one_or_more_FT_working_parents',\n",
    "               'child_poverty_ahc_perc_HH_B60_CV_one_or_more_PT_working_parents', \n",
    "               'health_expenditure_as_percent_of_gdp', 'health_expenditure_per_capita_PPP', 'depression_adult',\n",
    "               'excellent_very_good_or_good_self_rated_health', 'psychological_distress_adult', 'mood_anxiety_disorder_adult',\n",
    "               'healthy_weight_adult', 'unmet_after_hours_care_due_to_cost_adult', 'unmet_GP_care_due_to_cost_adult',\n",
    "               'veg_and_fruit_intake_adult', 'breakfast_eaten_at_home_less_5_days_a_week_child', 'adult_diabetes_rates',\n",
    "               'emotional_behavioural_problems_child', 'depression_child', 'excellent_very_good_or_good_parent_rated_health_child',\n",
    "               'unfilled_prescription_due_to_cost_child', 'unmet_need_for_after_hours_due_to_cost_child', 'healthy_weight_child',\n",
    "               'unmet_need_for_GP_due_to_cost_child', 'vegetable_and_fruit_intake_child', 'suicides_per_100000',\n",
    "               'problem_gambling_intervention_prevelance_percent'\n",
    "               ]]\n",
    "ph_df.head()"
   ]
  },
  {
   "cell_type": "code",
   "execution_count": 28,
   "metadata": {
    "scrolled": false
   },
   "outputs": [],
   "source": [
    "# Function that removes day, month and time (i.e. first 5 and last 6 characters) from year column\n",
    "def remove_chars(x):\n",
    "    x = x.replace(x[-5:], '')\n",
    "    return x.replace(x[:6], '')\n",
    "# Function that removes last 2 character\n",
    "def remove_last(x):\n",
    "    return x.replace(x[-2:], '')\n",
    "pd.options.mode.chained_assignment = None\n",
    "ph_df['year'] = ph_df['year'].apply(remove_chars)\n",
    "ph_df = ph_df.set_index('year')\n",
    "ph_df = ph_df.rename(columns={'LIH_B60_contemp_median_AHC': 'poverty_60ML', 'LIH_B50_contemp_median_AHC': 'poverty_50ML',\n",
    "                              'LIH_B50_CV_AHC': 'poverty_50AL', 'LIH_B60_CV_AHC': 'poverty_60AL',\n",
    "                              'LIH_B40_contemp_median_AHC': 'poverty_40AL', 'LIEH_B60_contemp_median_AHC': 'poverty_eld_60ML',\n",
    "                              'LIEH_B50_contemp_median_AHC': 'poverty_eld_50ML', 'LIEH_B50_CV_median_AHC': 'poverty_eld_50AL',\n",
    "                              'LIEH_B60_CV_median_AHC': 'poverty_eld_60AL', 'LIS65H_B60_CV_median_AHC': 'poverty_risk_s65_60AL', \n",
    "                              'LISPH_B60_CV_median_AHC': 'poverty_risk_sp_60AL', 'LIS65H_B50_CV_median_AHC': 'poverty_risk_s65_50AL',\n",
    "                              'LISPH_B50_CV_median_AHC': 'poverty_risk_sp_50AL', 'child_poverty_ahc_perc_HH_B50_CV': 'poverty_child_50AL',\n",
    "                              'child_poverty_ahc_perc_HH_B60_CV': 'poverty_child_60AL', \n",
    "                              'child_poverty_ahc_perc_HH_B40_contemp_median': 'poverty_child_40ML',\n",
    "                              'child_poverty_ahc_perc_HH_B50_contemp_median': 'poverty_child_50ML', \n",
    "                              'child_poverty_ahc_perc_HH_B60_contemp_median': 'poverty_child_60ML',\n",
    "                              'child_poverty_ahc_perc_HH_B60_CV_one_or_more_FT_working_parents': 'poverty_childPTP_60AL',\n",
    "                              'child_poverty_ahc_perc_HH_B60_CV_one_or_more_PT_working_parents': 'poverty_childFTP_60AL'})\n",
    "ph_df = ph_df.sort_index()"
   ]
  },
  {
   "cell_type": "markdown",
   "metadata": {},
   "source": [
    "### Cleaning\n",
    "To clean imported data I will follow the following steps:\n",
    "1. Drop rows if all values in the row are missing\n",
    "2. Replace all dashes, None, nan values with np.nan\n",
    "3. When possible convert all values to float data type.\n",
    "4. Interpolate data to fill gaps. The gaps make it difficult to connect data points from different metrics. Extrapolation may lead to incorrect data, so it's avoided."
   ]
  },
  {
   "cell_type": "code",
   "execution_count": 29,
   "metadata": {
    "scrolled": true
   },
   "outputs": [
    {
     "data": {
      "text/html": [
       "<div>\n",
       "<style scoped>\n",
       "    .dataframe tbody tr th:only-of-type {\n",
       "        vertical-align: middle;\n",
       "    }\n",
       "\n",
       "    .dataframe tbody tr th {\n",
       "        vertical-align: top;\n",
       "    }\n",
       "\n",
       "    .dataframe thead th {\n",
       "        text-align: right;\n",
       "    }\n",
       "</style>\n",
       "<table border=\"1\" class=\"dataframe\">\n",
       "  <thead>\n",
       "    <tr style=\"text-align: right;\">\n",
       "      <th></th>\n",
       "      <th>poverty_60ML</th>\n",
       "      <th>poverty_50ML</th>\n",
       "      <th>poverty_50AL</th>\n",
       "      <th>poverty_60AL</th>\n",
       "      <th>poverty_40AL</th>\n",
       "      <th>poverty_eld_60ML</th>\n",
       "      <th>poverty_eld_50ML</th>\n",
       "      <th>poverty_eld_50AL</th>\n",
       "      <th>poverty_eld_60AL</th>\n",
       "      <th>poverty_risk_s65_60AL</th>\n",
       "      <th>...</th>\n",
       "      <th>emotional_behavioural_problems_child</th>\n",
       "      <th>depression_child</th>\n",
       "      <th>excellent_very_good_or_good_parent_rated_health_child</th>\n",
       "      <th>unfilled_prescription_due_to_cost_child</th>\n",
       "      <th>unmet_need_for_after_hours_due_to_cost_child</th>\n",
       "      <th>healthy_weight_child</th>\n",
       "      <th>unmet_need_for_GP_due_to_cost_child</th>\n",
       "      <th>vegetable_and_fruit_intake_child</th>\n",
       "      <th>suicides_per_100000</th>\n",
       "      <th>problem_gambling_intervention_prevelance_percent</th>\n",
       "    </tr>\n",
       "    <tr>\n",
       "      <th>year</th>\n",
       "      <th></th>\n",
       "      <th></th>\n",
       "      <th></th>\n",
       "      <th></th>\n",
       "      <th></th>\n",
       "      <th></th>\n",
       "      <th></th>\n",
       "      <th></th>\n",
       "      <th></th>\n",
       "      <th></th>\n",
       "      <th></th>\n",
       "      <th></th>\n",
       "      <th></th>\n",
       "      <th></th>\n",
       "      <th></th>\n",
       "      <th></th>\n",
       "      <th></th>\n",
       "      <th></th>\n",
       "      <th></th>\n",
       "      <th></th>\n",
       "      <th></th>\n",
       "    </tr>\n",
       "  </thead>\n",
       "  <tbody>\n",
       "    <tr>\n",
       "      <th>1982</th>\n",
       "      <td>9.0</td>\n",
       "      <td>6.0</td>\n",
       "      <td>8.0</td>\n",
       "      <td>NaN</td>\n",
       "      <td>4.0</td>\n",
       "      <td>3.0</td>\n",
       "      <td>1.0</td>\n",
       "      <td>3.0</td>\n",
       "      <td>NaN</td>\n",
       "      <td>NaN</td>\n",
       "      <td>...</td>\n",
       "      <td>NaN</td>\n",
       "      <td>NaN</td>\n",
       "      <td>NaN</td>\n",
       "      <td>NaN</td>\n",
       "      <td>NaN</td>\n",
       "      <td>NaN</td>\n",
       "      <td>NaN</td>\n",
       "      <td>NaN</td>\n",
       "      <td>NaN</td>\n",
       "      <td>NaN</td>\n",
       "    </tr>\n",
       "    <tr>\n",
       "      <th>1983</th>\n",
       "      <td>9.0</td>\n",
       "      <td>6.0</td>\n",
       "      <td>8.5</td>\n",
       "      <td>NaN</td>\n",
       "      <td>4.0</td>\n",
       "      <td>2.5</td>\n",
       "      <td>1.0</td>\n",
       "      <td>2.5</td>\n",
       "      <td>NaN</td>\n",
       "      <td>NaN</td>\n",
       "      <td>...</td>\n",
       "      <td>NaN</td>\n",
       "      <td>NaN</td>\n",
       "      <td>NaN</td>\n",
       "      <td>NaN</td>\n",
       "      <td>NaN</td>\n",
       "      <td>NaN</td>\n",
       "      <td>NaN</td>\n",
       "      <td>NaN</td>\n",
       "      <td>NaN</td>\n",
       "      <td>NaN</td>\n",
       "    </tr>\n",
       "    <tr>\n",
       "      <th>1984</th>\n",
       "      <td>9.0</td>\n",
       "      <td>6.0</td>\n",
       "      <td>9.0</td>\n",
       "      <td>NaN</td>\n",
       "      <td>4.0</td>\n",
       "      <td>2.0</td>\n",
       "      <td>1.0</td>\n",
       "      <td>2.0</td>\n",
       "      <td>NaN</td>\n",
       "      <td>NaN</td>\n",
       "      <td>...</td>\n",
       "      <td>NaN</td>\n",
       "      <td>NaN</td>\n",
       "      <td>NaN</td>\n",
       "      <td>NaN</td>\n",
       "      <td>NaN</td>\n",
       "      <td>NaN</td>\n",
       "      <td>NaN</td>\n",
       "      <td>NaN</td>\n",
       "      <td>NaN</td>\n",
       "      <td>NaN</td>\n",
       "    </tr>\n",
       "    <tr>\n",
       "      <th>1985</th>\n",
       "      <td>8.0</td>\n",
       "      <td>5.5</td>\n",
       "      <td>8.0</td>\n",
       "      <td>NaN</td>\n",
       "      <td>3.5</td>\n",
       "      <td>3.0</td>\n",
       "      <td>1.5</td>\n",
       "      <td>3.0</td>\n",
       "      <td>NaN</td>\n",
       "      <td>NaN</td>\n",
       "      <td>...</td>\n",
       "      <td>NaN</td>\n",
       "      <td>NaN</td>\n",
       "      <td>NaN</td>\n",
       "      <td>NaN</td>\n",
       "      <td>NaN</td>\n",
       "      <td>NaN</td>\n",
       "      <td>NaN</td>\n",
       "      <td>NaN</td>\n",
       "      <td>9.995119</td>\n",
       "      <td>NaN</td>\n",
       "    </tr>\n",
       "    <tr>\n",
       "      <th>1986</th>\n",
       "      <td>7.0</td>\n",
       "      <td>5.0</td>\n",
       "      <td>7.0</td>\n",
       "      <td>NaN</td>\n",
       "      <td>3.0</td>\n",
       "      <td>4.0</td>\n",
       "      <td>2.0</td>\n",
       "      <td>4.0</td>\n",
       "      <td>NaN</td>\n",
       "      <td>NaN</td>\n",
       "      <td>...</td>\n",
       "      <td>NaN</td>\n",
       "      <td>NaN</td>\n",
       "      <td>NaN</td>\n",
       "      <td>NaN</td>\n",
       "      <td>NaN</td>\n",
       "      <td>NaN</td>\n",
       "      <td>NaN</td>\n",
       "      <td>NaN</td>\n",
       "      <td>12.297609</td>\n",
       "      <td>NaN</td>\n",
       "    </tr>\n",
       "  </tbody>\n",
       "</table>\n",
       "<p>5 rows × 42 columns</p>\n",
       "</div>"
      ],
      "text/plain": [
       "      poverty_60ML  poverty_50ML  poverty_50AL  poverty_60AL  poverty_40AL  \\\n",
       "year                                                                         \n",
       "1982           9.0           6.0           8.0           NaN           4.0   \n",
       "1983           9.0           6.0           8.5           NaN           4.0   \n",
       "1984           9.0           6.0           9.0           NaN           4.0   \n",
       "1985           8.0           5.5           8.0           NaN           3.5   \n",
       "1986           7.0           5.0           7.0           NaN           3.0   \n",
       "\n",
       "      poverty_eld_60ML  poverty_eld_50ML  poverty_eld_50AL  poverty_eld_60AL  \\\n",
       "year                                                                           \n",
       "1982               3.0               1.0               3.0               NaN   \n",
       "1983               2.5               1.0               2.5               NaN   \n",
       "1984               2.0               1.0               2.0               NaN   \n",
       "1985               3.0               1.5               3.0               NaN   \n",
       "1986               4.0               2.0               4.0               NaN   \n",
       "\n",
       "      poverty_risk_s65_60AL  ...  emotional_behavioural_problems_child  \\\n",
       "year                         ...                                         \n",
       "1982                    NaN  ...                                   NaN   \n",
       "1983                    NaN  ...                                   NaN   \n",
       "1984                    NaN  ...                                   NaN   \n",
       "1985                    NaN  ...                                   NaN   \n",
       "1986                    NaN  ...                                   NaN   \n",
       "\n",
       "      depression_child  excellent_very_good_or_good_parent_rated_health_child  \\\n",
       "year                                                                            \n",
       "1982               NaN                                                NaN       \n",
       "1983               NaN                                                NaN       \n",
       "1984               NaN                                                NaN       \n",
       "1985               NaN                                                NaN       \n",
       "1986               NaN                                                NaN       \n",
       "\n",
       "      unfilled_prescription_due_to_cost_child  \\\n",
       "year                                            \n",
       "1982                                      NaN   \n",
       "1983                                      NaN   \n",
       "1984                                      NaN   \n",
       "1985                                      NaN   \n",
       "1986                                      NaN   \n",
       "\n",
       "      unmet_need_for_after_hours_due_to_cost_child  healthy_weight_child  \\\n",
       "year                                                                       \n",
       "1982                                           NaN                   NaN   \n",
       "1983                                           NaN                   NaN   \n",
       "1984                                           NaN                   NaN   \n",
       "1985                                           NaN                   NaN   \n",
       "1986                                           NaN                   NaN   \n",
       "\n",
       "      unmet_need_for_GP_due_to_cost_child  vegetable_and_fruit_intake_child  \\\n",
       "year                                                                          \n",
       "1982                                  NaN                               NaN   \n",
       "1983                                  NaN                               NaN   \n",
       "1984                                  NaN                               NaN   \n",
       "1985                                  NaN                               NaN   \n",
       "1986                                  NaN                               NaN   \n",
       "\n",
       "      suicides_per_100000  problem_gambling_intervention_prevelance_percent  \n",
       "year                                                                         \n",
       "1982                  NaN                                               NaN  \n",
       "1983                  NaN                                               NaN  \n",
       "1984                  NaN                                               NaN  \n",
       "1985             9.995119                                               NaN  \n",
       "1986            12.297609                                               NaN  \n",
       "\n",
       "[5 rows x 42 columns]"
      ]
     },
     "execution_count": 29,
     "metadata": {},
     "output_type": "execute_result"
    }
   ],
   "source": [
    "# Delete rows if all values in a row are missing \n",
    "ph_df = ph_df.dropna(how='all')\n",
    "\n",
    "# Funcion that replaces all dashes, Nona and nan with NaN\n",
    "new_ph = ph_df.replace({\"-\": np.nan, 'None': np.nan, 'nan': np.nan})\n",
    "\n",
    "# Function to clean values\n",
    "def clean(val):\n",
    "    if isinstance(val, str):\n",
    "        new_val = ''\n",
    "        for i in val:\n",
    "            if i == ',':\n",
    "                new_val += \".\"\n",
    "            if i.isnumeric() or i == '.':\n",
    "                new_val += i\n",
    "        val = new_val              \n",
    "    try:\n",
    "        return float(val)\n",
    "    except ValueError:\n",
    "        return np.nan\n",
    "cleaned_df = new_ph.applymap(clean)\n",
    "ci_df = cleaned_df.interpolate(limit_area=\"inside\")\n",
    "ci_df.head()"
   ]
  },
  {
   "cell_type": "markdown",
   "metadata": {},
   "source": [
    "### Plotting\n",
    "\n",
    "##### Proportion of population in low-income households\n",
    "New Zealand does not have an official poverty measure. However, low-income thresholds or poverty lines can be used. The ‘fixed line’ measure anchors the poverty line in a reference year, then adjusts it each survey with the Consumer Price Index. The ‘moving line’ or ‘relative’ measure sets the poverty line as a proportion of the median income.<br />\n",
    "The graph below shows the percentage of the population with household income (after housing costs) below 60 % of the median income in NZ for the period from 1982 to 2017. According to the graph for adults, there was a slight decline in poverty levels between 1983 and 1985. Followed by a dramatic increase over the next decade (1985 - 1994) and, after 1994, the poverty level is stable and fluctuates around 19%. The poverty line for children living in families with low-income follows the same pattern as for adults showing approximately 5% higher values throughout the whole period. At the same time, the percentage of elderly earning below 60% of contemporary median (moving line) income after housing costs is significantly lower. It also has a different pattern with a trend for a constant increase from 1982 to 2017."
   ]
  },
  {
   "cell_type": "code",
   "execution_count": 27,
   "metadata": {},
   "outputs": [
    {
     "data": {
      "text/plain": [
       "Text(0, 0.5, 'Poverty, %')"
      ]
     },
     "execution_count": 27,
     "metadata": {},
     "output_type": "execute_result"
    },
    {
     "data": {
      "image/png": "[encoded data removed]",
      "text/plain": [
       "<Figure size 720x480 with 1 Axes>"
      ]
     },
     "metadata": {
      "needs_background": "light"
     },
     "output_type": "display_data"
    }
   ],
   "source": [
    "p60ml_df = ci_df[['poverty_60ML', 'poverty_eld_60ML', 'poverty_child_60ML']]\n",
    "p60ml_df = p60ml_df.rename(columns={'poverty_60ML': 'Poverty(adult)', 'poverty_eld_60ML': 'Poverty(elderly)', 'poverty_child_60ML': 'Poverty(child)'})\n",
    "plot5 = p60ml_df.plot()\n",
    "plt.title(\"Proportion of the population in low-income households\", alpha=0.5)\n",
    "plot5.set_xlabel(\"Year\", alpha=0.5)\n",
    "plot5.set_ylabel(\"Poverty, %\", alpha=0.5)"
   ]
  },
  {
   "cell_type": "markdown",
   "metadata": {},
   "source": [
    "##### Changes in number of people with a healthy weight\n",
    "\n",
    "Based an available data it is clear that there is a constant decline in the number of people with healthy weight defined as a BMI of 18.5-24.9. "
   ]
  },
  {
   "cell_type": "code",
   "execution_count": 34,
   "metadata": {},
   "outputs": [
    {
     "data": {
      "text/plain": [
       "Text(0, 0.5, 'Adults with a healthy weight, %')"
      ]
     },
     "execution_count": 34,
     "metadata": {},
     "output_type": "execute_result"
    },
    {
     "data": {
      "image/png": "[encoded data removed]",
      "text/plain": [
       "<Figure size 720x480 with 1 Axes>"
      ]
     },
     "metadata": {
      "needs_background": "light"
     },
     "output_type": "display_data"
    }
   ],
   "source": [
    "hw_df = ci_df[['healthy_weight_adult']]\n",
    "hw_df = hw_df.rename(columns={'healthy_weight_adult': 'Adults with a healthy weight'})\n",
    "plot6 = hw_df.plot()\n",
    "plt.title(\"Percentage of adults (15+) with healthy weight\", alpha=0.5)\n",
    "plot6.set_xlabel(\"Year\", alpha=0.5)\n",
    "plot6.set_ylabel(\"Adults with a healthy weight, %\", alpha=0.5)"
   ]
  },
  {
   "cell_type": "markdown",
   "metadata": {},
   "source": [
    "To find if poverty factors affect number of people with a healthy weight, find all correlations betweeen healthy weight and other indicators, print the strongest.\n"
   ]
  },
  {
   "cell_type": "code",
   "execution_count": 29,
   "metadata": {},
   "outputs": [
    {
     "name": "stdout",
     "output_type": "stream",
     "text": [
      "[[-0.9760907862174565, 'health_expenditure_per_capita_PPP', 'healthy_weight_adult'], [-0.9760907862174565, 'healthy_weight_adult', 'health_expenditure_per_capita_PPP'], [-0.9733896888775833, 'mood_anxiety_disorder_adult', 'healthy_weight_adult'], [-0.9733896888775833, 'healthy_weight_adult', 'mood_anxiety_disorder_adult'], [-0.9575674278089387, 'emotional_behavioural_problems_child', 'healthy_weight_adult'], [-0.9575674278089386, 'healthy_weight_adult', 'emotional_behavioural_problems_child'], [-0.9516435873938309, 'depression_adult', 'healthy_weight_adult'], [-0.9516435873938309, 'healthy_weight_adult', 'depression_adult'], [-0.9019459005650712, 'healthy_weight_adult', 'breakfast_eaten_at_home_less_5_days_a_week_child'], [-0.9019459005650712, 'breakfast_eaten_at_home_less_5_days_a_week_child', 'healthy_weight_adult']]\n"
     ]
    }
   ],
   "source": [
    "corr_list = []\n",
    "for col1 in ci_df:\n",
    "    for col2 in ci_df:\n",
    "        if col1 == col2:\n",
    "            continue\n",
    "        corr_list.append([ci_df[col1].corr(ci_df[col2]), col1, col2])\n",
    "sorted_list = sorted(corr_list, key=lambda x: x[0])\n",
    "hw_list = []\n",
    "ps_list = []\n",
    "pov_list = []\n",
    "for i in sorted_list:\n",
    "    if \"healthy_weight_adult\" in i:\n",
    "        hw_list.append(i)\n",
    "    if \"poverty\" in i[1] and \"suicides\" in i[2]:\n",
    "        ps_list.append(i)\n",
    "    if \"poverty\" in i[1]:\n",
    "        pov_list.append(i)\n",
    "print(sorted(hw_list, key=lambda x: x[0])[:10])"
   ]
  },
  {
   "cell_type": "markdown",
   "metadata": {},
   "source": [
    "**Based on the data, there is strong negative correcation between number of people with a healthy weight, mood anxiety disorder and depression.**"
   ]
  },
  {
   "cell_type": "code",
   "execution_count": 30,
   "metadata": {},
   "outputs": [
    {
     "data": {
      "text/plain": [
       "Text(0.5, 1.0, 'Correlation between healthy weight and mood anxiety')"
      ]
     },
     "execution_count": 30,
     "metadata": {},
     "output_type": "execute_result"
    },
    {
     "data": {
      "image/png": "[encoded data removed]",
      "text/plain": [
       "<Figure size 720x480 with 1 Axes>"
      ]
     },
     "metadata": {
      "needs_background": "light"
     },
     "output_type": "display_data"
    }
   ],
   "source": [
    "wa_df = ci_df[['healthy_weight_adult', 'mood_anxiety_disorder_adult']].dropna()\n",
    "wa_df = wa_df.rename(columns={'healthy_weight_adult': 'Adults with healthy weight, %', \n",
    "                              'mood_anxiety_disorder_adult': 'Adults with a mood anxiety disorder, %'})\n",
    "plot7 = wa_df.plot.scatter(x='Adults with healthy weight, %', y='Adults with a mood anxiety disorder, %')\n",
    "plt.title(\"Correlation between healthy weight and mood anxiety\", alpha=0.5)"
   ]
  },
  {
   "cell_type": "markdown",
   "metadata": {},
   "source": [
    "##### Correlation between poverty and suicides\n",
    "The nature of the relationship between poverty levels and suicide could be the subject of debate. Based on available data, there is a weak relationship between suicide numbers and poverty levels in NZ. "
   ]
  },
  {
   "cell_type": "code",
   "execution_count": 31,
   "metadata": {},
   "outputs": [
    {
     "name": "stdout",
     "output_type": "stream",
     "text": [
      "[[-0.5150515916722688, 'poverty_risk_s65_50AL', 'suicides_per_100000'], [-0.4833570974055502, 'poverty_eld_50ML', 'suicides_per_100000'], [-0.4627284158580343, 'poverty_eld_60ML', 'suicides_per_100000'], [-0.29546232330044014, 'poverty_childFTP_60AL', 'suicides_per_100000'], [-0.2572751012851738, 'poverty_risk_sp_50AL', 'suicides_per_100000']]\n"
     ]
    }
   ],
   "source": [
    "print(sorted(ps_list, key=lambda x: x[0])[:5])"
   ]
  },
  {
   "cell_type": "code",
   "execution_count": 32,
   "metadata": {
    "scrolled": true
   },
   "outputs": [
    {
     "data": {
      "text/plain": [
       "Text(0.5, 1.0, 'Correlation between poverty and number of suicides')"
      ]
     },
     "execution_count": 32,
     "metadata": {},
     "output_type": "execute_result"
    },
    {
     "data": {
      "image/png": "[encoded data removed]",
      "text/plain": [
       "<Figure size 720x480 with 1 Axes>"
      ]
     },
     "metadata": {
      "needs_background": "light"
     },
     "output_type": "display_data"
    }
   ],
   "source": [
    "ps_df = ci_df[['poverty_60ML', 'suicides_per_100000']].dropna()\n",
    "ps_df = ps_df.rename(columns={'poverty_60ML': 'Poverty, %', 'suicides_per_100000': 'Suicides per 100000'})\n",
    "ps_corr = ps_df['Poverty, %'].corr(ps_df['Suicides per 100000'])\n",
    "plot7 = ps_df.plot.scatter(x='Poverty, %', y='Suicides per 100000')\n",
    "plt.title(\"Correlation between poverty and number of suicides\", alpha=0.5)"
   ]
  },
  {
   "cell_type": "markdown",
   "metadata": {},
   "source": [
    "#### Correlation between poverty and health\n",
    "\n",
    "Iterate through the data and find the factors that affect each other the most. "
   ]
  },
  {
   "cell_type": "code",
   "execution_count": 33,
   "metadata": {},
   "outputs": [
    {
     "name": "stdout",
     "output_type": "stream",
     "text": [
      "[[-0.9690889908638127, 'poverty_50AL', 'health_expenditure_per_capita_PPP'], [-0.9599303293202955, 'poverty_60AL', 'health_expenditure_per_capita_PPP'], [-0.9437119782296973, 'poverty_50AL', 'health_expenditure_as_percent_of_gdp'], [-0.9437014308415508, 'poverty_50ML', 'unmet_after_hours_care_due_to_cost_adult'], [-0.9030568587053496, 'poverty_60AL', 'health_expenditure_as_percent_of_gdp']]\n"
     ]
    }
   ],
   "source": [
    "# Function that iterates through df and calculates all possible correlations\n",
    "print(sorted(pov_list, key=lambda x: x[0])[:5])"
   ]
  },
  {
   "cell_type": "markdown",
   "metadata": {},
   "source": [
    "### Conclusion\n",
    "\n",
    "There were no dramatic changes in the poverty numbers in the last 20 years. However, there is a significant gap between the numbers of children and elderly living in low-income households. \n",
    "The data showed that the percentage of adults with a healthy weight decline each year. And it has a strong connection with certain mental disorders, including depression and mood anxiety disorder. At the same time, a weak or no correlation was found between poverty levels and suicide numbers. "
   ]
  }
 ],
 "metadata": {
  "kernelspec": {
   "display_name": "Python 3",
   "language": "python",
   "name": "python3"
  },
  "language_info": {
   "codemirror_mode": {
    "name": "ipython",
    "version": 3
   },
   "file_extension": ".py",
   "mimetype": "text/x-python",
   "name": "python",
   "nbconvert_exporter": "python",
   "pygments_lexer": "ipython3",
   "version": "3.8.3"
  }
 },
 "nbformat": 4,
 "nbformat_minor": 4
}
